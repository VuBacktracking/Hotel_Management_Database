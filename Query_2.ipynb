{
    "cells": [
        {
            "cell_type": "code",
            "execution_count": 2,
            "metadata": {
                "azdata_cell_guid": "767d60ae-e08e-44b3-90cd-872c03c7df45",
                "language": "sql",
                "tags": []
            },
            "outputs": [
                {
                    "data": {
                        "text/html": [
                            "(2 rows affected)"
                        ]
                    },
                    "metadata": {},
                    "output_type": "display_data"
                },
                {
                    "data": {
                        "text/html": [
                            "Total execution time: 00:00:00.143"
                        ]
                    },
                    "metadata": {},
                    "output_type": "display_data"
                },
                {
                    "data": {
                        "application/vnd.dataresource+json": {
                            "data": [
                                {
                                    "0": "Cà phê sữa",
                                    "1": "menu_mt             ",
                                    "2": "25000",
                                    "3": "2"
                                },
                                {
                                    "0": "Nước trái cây các loại",
                                    "1": "menu_lm             ",
                                    "2": "30000",
                                    "3": "2"
                                }
                            ],
                            "schema": {
                                "fields": [
                                    {
                                        "name": "dish_name"
                                    },
                                    {
                                        "name": "menu_id"
                                    },
                                    {
                                        "name": "price"
                                    },
                                    {
                                        "name": "amount"
                                    }
                                ]
                            }
                        },
                        "text/html": [
                            "<table>\n",
                            "<tr><th>dish_name</th><th>menu_id</th><th>price</th><th>amount</th></tr>\n",
                            "<tr><td>Cà phê sữa</td><td>menu_mt             </td><td>25000</td><td>2</td></tr>\n",
                            "<tr><td>Nước trái cây các loại</td><td>menu_lm             </td><td>30000</td><td>2</td></tr>\n",
                            "</table>"
                        ]
                    },
                    "execution_count": 2,
                    "metadata": {},
                    "output_type": "execute_result"
                }
            ],
            "source": [
                "use Hotel_Restaurant_Management;\n",
                "SELECT dn.dish_name, m.menu_id,dn.price, md.amount\n",
                "FROM meal as m  \n",
                "INNER JOIN meal_detail as md  \n",
                "ON m.meal_id = md.meal_id \n",
                "INNER JOIN dish_name as dn \n",
                "ON md.dish_id = dn.dish_id \n",
                "WHERE m.time = N'Tối'\n",
                "AND md.amount > 1; "
            ]
        },
        {
            "cell_type": "code",
            "execution_count": 6,
            "metadata": {
                "azdata_cell_guid": "541756df-ee53-4dde-9563-73ef23d799bb",
                "language": "sql"
            },
            "outputs": [
                {
                    "data": {
                        "text/html": [
                            "(9 rows affected)"
                        ]
                    },
                    "metadata": {},
                    "output_type": "display_data"
                },
                {
                    "data": {
                        "text/html": [
                            "Total execution time: 00:00:00.067"
                        ]
                    },
                    "metadata": {},
                    "output_type": "display_data"
                },
                {
                    "data": {
                        "application/vnd.dataresource+json": {
                            "data": [
                                {
                                    "0": "Chu  Thương",
                                    "1": "1968-03-03",
                                    "2": "Nam"
                                },
                                {
                                    "0": "Công Tôn Toản",
                                    "1": "1968-04-21",
                                    "2": "Nam"
                                },
                                {
                                    "0": "Đổng  Trác",
                                    "1": "1975-01-21",
                                    "2": "Nam"
                                },
                                {
                                    "0": "Gia Cát Cẩn",
                                    "1": "1978-10-12",
                                    "2": "Nam"
                                },
                                {
                                    "0": "Hạ Hầu Đôn",
                                    "1": "1988-01-12",
                                    "2": "Nam"
                                },
                                {
                                    "0": "Hoàng Hán Thăng",
                                    "1": "1971-02-22",
                                    "2": "Nam"
                                },
                                {
                                    "0": "Lưu Cảnh Thăng",
                                    "1": "1969-06-23",
                                    "2": "Nam"
                                },
                                {
                                    "0": "Lý Man Thành",
                                    "1": "1970-03-22",
                                    "2": "Nam"
                                },
                                {
                                    "0": "Mã Mạnh Khởi",
                                    "1": "1978-01-25",
                                    "2": "Nam"
                                }
                            ],
                            "schema": {
                                "fields": [
                                    {
                                        "name": "full_name"
                                    },
                                    {
                                        "name": "dob"
                                    },
                                    {
                                        "name": "sex"
                                    }
                                ]
                            }
                        },
                        "text/html": [
                            "<table><tr><th>full_name</th><th>dob</th><th>sex</th></tr><tr><td>Chu  Thương</td><td>1968-03-03</td><td>Nam</td></tr><tr><td>Công Tôn Toản</td><td>1968-04-21</td><td>Nam</td></tr><tr><td>Đổng  Trác</td><td>1975-01-21</td><td>Nam</td></tr><tr><td>Gia Cát Cẩn</td><td>1978-10-12</td><td>Nam</td></tr><tr><td>Hạ Hầu Đôn</td><td>1988-01-12</td><td>Nam</td></tr><tr><td>Hoàng Hán Thăng</td><td>1971-02-22</td><td>Nam</td></tr><tr><td>Lưu Cảnh Thăng</td><td>1969-06-23</td><td>Nam</td></tr><tr><td>Lý Man Thành</td><td>1970-03-22</td><td>Nam</td></tr><tr><td>Mã Mạnh Khởi</td><td>1978-01-25</td><td>Nam</td></tr></table>"
                        ]
                    },
                    "execution_count": 6,
                    "metadata": {},
                    "output_type": "execute_result"
                }
            ],
            "source": [
                "SELECT DISTINCT CONCAT(Rtrim(w.lname), ' ', RTRIM(w.mname), ' ', RTRIM(w.fname)) as full_name, dob, sex \n",
                "FROM waiter as w\n",
                "INNER JOIN serve as s \n",
                "ON s.waiter_id = w.waiter_id\n",
                "WHERE w.fname LIKE 'T%'\n",
                "OR YEAR(GETDATE()) - YEAR(dob) IN (34,44);"
            ]
        },
        {
            "cell_type": "code",
            "execution_count": 13,
            "metadata": {
                "azdata_cell_guid": "e794e62b-c04d-4f6c-aa36-56175a296562",
                "language": "sql"
            },
            "outputs": [
                {
                    "data": {
                        "text/html": [
                            "(4 rows affected)"
                        ]
                    },
                    "metadata": {},
                    "output_type": "display_data"
                },
                {
                    "data": {
                        "text/html": [
                            "Total execution time: 00:00:00.020"
                        ]
                    },
                    "metadata": {},
                    "output_type": "display_data"
                },
                {
                    "data": {
                        "application/vnd.dataresource+json": {
                            "data": [
                                {
                                    "0": "Mường Thanh Restaurant",
                                    "1": "Cá hồi áp chảo",
                                    "2": "450000"
                                },
                                {
                                    "0": "Mường Thanh Restaurant",
                                    "1": "Cá ngừ & mù tạt",
                                    "2": "200000"
                                },
                                {
                                    "0": "Mường Thanh Restaurant",
                                    "1": "Cơm chiên dương châu",
                                    "2": "100000"
                                },
                                {
                                    "0": "Land Mark Restaurant",
                                    "1": "Cà phê và trái cây",
                                    "2": "80000"
                                }
                            ],
                            "schema": {
                                "fields": [
                                    {
                                        "name": "restaurant"
                                    },
                                    {
                                        "name": "dish_name"
                                    },
                                    {
                                        "name": "price"
                                    }
                                ]
                            }
                        },
                        "text/html": [
                            "<table><tr><th>restaurant</th><th>dish_name</th><th>price</th></tr><tr><td>Mường Thanh Restaurant</td><td>Cá hồi áp chảo</td><td>450000</td></tr><tr><td>Mường Thanh Restaurant</td><td>Cá ngừ &amp; mù tạt</td><td>200000</td></tr><tr><td>Mường Thanh Restaurant</td><td>Cơm chiên dương châu</td><td>100000</td></tr><tr><td>Land Mark Restaurant</td><td>Cà phê và trái cây</td><td>80000</td></tr></table>"
                        ]
                    },
                    "execution_count": 13,
                    "metadata": {},
                    "output_type": "execute_result"
                }
            ],
            "source": [
                "SELECT r.name as restaurant, d.dish_name, d.price \n",
                "FROM dish_name as d \n",
                "INNER JOIN menu as m \n",
                "ON d.menu_id = m.menu_id \n",
                "INNER JOIN restaurant as r \n",
                "ON m.res_id = r.res_id \n",
                "WHERE (d.dish_name LIKE'C%' OR d.dish_name LIKE 'c%')\n",
                "AND r.hotel_id NOT IN ('Hotel02', 'Hotel03')\n",
                "AND d.price > 60000\n",
                "ORDER BY d.price DESC;"
            ]
        },
        {
            "cell_type": "code",
            "execution_count": 17,
            "metadata": {
                "azdata_cell_guid": "ca95a0e8-586a-4096-9ef0-5729037fa183",
                "language": "sql"
            },
            "outputs": [
                {
                    "data": {
                        "text/html": [
                            "(28 rows affected)"
                        ]
                    },
                    "metadata": {},
                    "output_type": "display_data"
                },
                {
                    "data": {
                        "text/html": [
                            "Total execution time: 00:00:00.051"
                        ]
                    },
                    "metadata": {},
                    "output_type": "display_data"
                },
                {
                    "data": {
                        "application/vnd.dataresource+json": {
                            "data": [
                                {
                                    "0": "Cua hấp",
                                    "1": "Agoda Menu",
                                    "2": "99000"
                                },
                                {
                                    "0": "Bò hấp",
                                    "1": "Agoda Menu",
                                    "2": "110000"
                                },
                                {
                                    "0": "Tôm hấp",
                                    "1": "Agoda Menu",
                                    "2": "88000"
                                },
                                {
                                    "0": "Gà hấp",
                                    "1": "Agoda Menu",
                                    "2": "66000"
                                },
                                {
                                    "0": "Cá hấp",
                                    "1": "Agoda Menu",
                                    "2": "82500"
                                },
                                {
                                    "0": "Cà phê",
                                    "1": "Agoda Menu",
                                    "2": "31900"
                                },
                                {
                                    "0": "Nước bí đao",
                                    "1": "Agoda Menu",
                                    "2": "16500"
                                },
                                {
                                    "0": "Tôm hùm hấp",
                                    "1": "Land Mark Menu",
                                    "2": "660000"
                                },
                                {
                                    "0": "Súp bí ngô",
                                    "1": "Land Mark Menu",
                                    "2": "165000"
                                },
                                {
                                    "0": "Bò sốt tiêu đen",
                                    "1": "Land Mark Menu",
                                    "2": "770000"
                                },
                                {
                                    "0": "Mỳ ý bò bằm",
                                    "1": "Land Mark Menu",
                                    "2": "220000"
                                },
                                {
                                    "0": "Salad rau củ",
                                    "1": "Land Mark Menu",
                                    "2": "110000"
                                },
                                {
                                    "0": "Cà phê và trái cây",
                                    "1": "Land Mark Menu",
                                    "2": "88000"
                                },
                                {
                                    "0": "Nước trái cây các loại",
                                    "1": "Land Mark Menu",
                                    "2": "33000"
                                },
                                {
                                    "0": "Gà nướng",
                                    "1": "Minh Toàn Menu",
                                    "2": "110000"
                                },
                                {
                                    "0": "Salad cá ngừ",
                                    "1": "Minh Toàn Menu",
                                    "2": "88000"
                                },
                                {
                                    "0": "Sườn nướng",
                                    "1": "Minh Toàn Menu",
                                    "2": "220000"
                                },
                                {
                                    "0": "Mỳ ý",
                                    "1": "Minh Toàn Menu",
                                    "2": "77000"
                                },
                                {
                                    "0": "Súp cua",
                                    "1": "Minh Toàn Menu",
                                    "2": "77000"
                                },
                                {
                                    "0": "Cà phê sữa",
                                    "1": "Minh Toàn Menu",
                                    "2": "27500"
                                },
                                {
                                    "0": "Nước rau má",
                                    "1": "Minh Toàn Menu",
                                    "2": "33000"
                                },
                                {
                                    "0": "Cơm chiên dương châu",
                                    "1": "Mường Thanh Menu",
                                    "2": "110000"
                                },
                                {
                                    "0": "Cá hồi áp chảo",
                                    "1": "Mường Thanh Menu",
                                    "2": "495000"
                                },
                                {
                                    "0": "Bò bít tết",
                                    "1": "Mường Thanh Menu",
                                    "2": "550000"
                                },
                                {
                                    "0": "Súp kem nấm",
                                    "1": "Mường Thanh Menu",
                                    "2": "132000"
                                },
                                {
                                    "0": "Cá ngừ & mù tạt",
                                    "1": "Mường Thanh Menu",
                                    "2": "220000"
                                },
                                {
                                    "0": "Cà phê và bánh",
                                    "1": "Mường Thanh Menu",
                                    "2": "55000"
                                },
                                {
                                    "0": "Nước cam",
                                    "1": "Mường Thanh Menu",
                                    "2": "44000"
                                }
                            ],
                            "schema": {
                                "fields": [
                                    {
                                        "name": "dish_name"
                                    },
                                    {
                                        "name": "menu"
                                    },
                                    {
                                        "name": "price_after"
                                    }
                                ]
                            }
                        },
                        "text/html": [
                            "<table><tr><th>dish_name</th><th>menu</th><th>price_after</th></tr><tr><td>Cua hấp</td><td>Agoda Menu</td><td>99000</td></tr><tr><td>Bò hấp</td><td>Agoda Menu</td><td>110000</td></tr><tr><td>Tôm hấp</td><td>Agoda Menu</td><td>88000</td></tr><tr><td>Gà hấp</td><td>Agoda Menu</td><td>66000</td></tr><tr><td>Cá hấp</td><td>Agoda Menu</td><td>82500</td></tr><tr><td>Cà phê</td><td>Agoda Menu</td><td>31900</td></tr><tr><td>Nước bí đao</td><td>Agoda Menu</td><td>16500</td></tr><tr><td>Tôm hùm hấp</td><td>Land Mark Menu</td><td>660000</td></tr><tr><td>Súp bí ngô</td><td>Land Mark Menu</td><td>165000</td></tr><tr><td>Bò sốt tiêu đen</td><td>Land Mark Menu</td><td>770000</td></tr><tr><td>Mỳ ý bò bằm</td><td>Land Mark Menu</td><td>220000</td></tr><tr><td>Salad rau củ</td><td>Land Mark Menu</td><td>110000</td></tr><tr><td>Cà phê và trái cây</td><td>Land Mark Menu</td><td>88000</td></tr><tr><td>Nước trái cây các loại</td><td>Land Mark Menu</td><td>33000</td></tr><tr><td>Gà nướng</td><td>Minh Toàn Menu</td><td>110000</td></tr><tr><td>Salad cá ngừ</td><td>Minh Toàn Menu</td><td>88000</td></tr><tr><td>Sườn nướng</td><td>Minh Toàn Menu</td><td>220000</td></tr><tr><td>Mỳ ý</td><td>Minh Toàn Menu</td><td>77000</td></tr><tr><td>Súp cua</td><td>Minh Toàn Menu</td><td>77000</td></tr><tr><td>Cà phê sữa</td><td>Minh Toàn Menu</td><td>27500</td></tr><tr><td>Nước rau má</td><td>Minh Toàn Menu</td><td>33000</td></tr><tr><td>Cơm chiên dương châu</td><td>Mường Thanh Menu</td><td>110000</td></tr><tr><td>Cá hồi áp chảo</td><td>Mường Thanh Menu</td><td>495000</td></tr><tr><td>Bò bít tết</td><td>Mường Thanh Menu</td><td>550000</td></tr><tr><td>Súp kem nấm</td><td>Mường Thanh Menu</td><td>132000</td></tr><tr><td>Cá ngừ &amp; mù tạt</td><td>Mường Thanh Menu</td><td>220000</td></tr><tr><td>Cà phê và bánh</td><td>Mường Thanh Menu</td><td>55000</td></tr><tr><td>Nước cam</td><td>Mường Thanh Menu</td><td>44000</td></tr></table>"
                        ]
                    },
                    "execution_count": 17,
                    "metadata": {},
                    "output_type": "execute_result"
                }
            ],
            "source": [
                "SELECT d.dish_name, m.name as menu, ROUND(d.price * 1.1, 1) as price_after\n",
                "FROM dish_name as d \n",
                "INNER JOIN menu as m \n",
                "ON d.menu_id = m.menu_id  "
            ]
        },
        {
            "cell_type": "code",
            "execution_count": 21,
            "metadata": {
                "azdata_cell_guid": "a6262f9d-844e-4b51-bcda-072c402fe4ac",
                "language": "sql"
            },
            "outputs": [
                {
                    "data": {
                        "text/html": [
                            "(17 rows affected)"
                        ]
                    },
                    "metadata": {},
                    "output_type": "display_data"
                },
                {
                    "data": {
                        "text/html": [
                            "Total execution time: 00:00:00.028"
                        ]
                    },
                    "metadata": {},
                    "output_type": "display_data"
                },
                {
                    "data": {
                        "application/vnd.dataresource+json": {
                            "data": [
                                {
                                    "0": "Agoda Hotel",
                                    "1": "621",
                                    "2": "2500000",
                                    "3": "2125000"
                                },
                                {
                                    "0": "Agoda Hotel",
                                    "1": "441",
                                    "2": "1500000",
                                    "3": "1350000"
                                },
                                {
                                    "0": "Agoda Hotel",
                                    "1": "191",
                                    "2": "1000000",
                                    "3": "920000"
                                },
                                {
                                    "0": "Agoda Hotel",
                                    "1": "128",
                                    "2": "800000",
                                    "3": "760000"
                                },
                                {
                                    "0": "LandMark 81",
                                    "1": "901",
                                    "2": "8000000",
                                    "3": "6400000"
                                },
                                {
                                    "0": "LandMark 81",
                                    "1": "905",
                                    "2": "8000000",
                                    "3": "6400000"
                                },
                                {
                                    "0": "LandMark 81",
                                    "1": "801",
                                    "2": "6000000",
                                    "3": "5100000"
                                },
                                {
                                    "0": "LandMark 81",
                                    "1": "702",
                                    "2": "4500000",
                                    "3": "4050000"
                                },
                                {
                                    "0": "Mường Thanh Luxury",
                                    "1": "256",
                                    "2": "3000000",
                                    "3": "2700000"
                                },
                                {
                                    "0": "Mường Thanh Luxury",
                                    "1": "345",
                                    "2": "5000000",
                                    "3": "4250000"
                                },
                                {
                                    "0": "Mường Thanh Luxury",
                                    "1": "324",
                                    "2": "4000000",
                                    "3": "3680000"
                                },
                                {
                                    "0": "Mường Thanh Luxury",
                                    "1": "546",
                                    "2": "8000000",
                                    "3": "6400000"
                                },
                                {
                                    "0": "Mường Thanh Luxury",
                                    "1": "145",
                                    "2": "2000000",
                                    "3": "1900000"
                                },
                                {
                                    "0": "Minh Toàn Galaxy",
                                    "1": "201",
                                    "2": "900000",
                                    "3": "855000"
                                },
                                {
                                    "0": "Minh Toàn Galaxy",
                                    "1": "307",
                                    "2": "2000000",
                                    "3": "1840000"
                                },
                                {
                                    "0": "Minh Toàn Galaxy",
                                    "1": "654",
                                    "2": "5000000",
                                    "3": "4250000"
                                },
                                {
                                    "0": "Minh Toàn Galaxy",
                                    "1": "432",
                                    "2": "4000000",
                                    "3": "3600000"
                                }
                            ],
                            "schema": {
                                "fields": [
                                    {
                                        "name": "hotel"
                                    },
                                    {
                                        "name": "room_number"
                                    },
                                    {
                                        "name": "price"
                                    },
                                    {
                                        "name": "price_after"
                                    }
                                ]
                            }
                        },
                        "text/html": [
                            "<table><tr><th>hotel</th><th>room_number</th><th>price</th><th>price_after</th></tr><tr><td>Agoda Hotel</td><td>621</td><td>2500000</td><td>2125000</td></tr><tr><td>Agoda Hotel</td><td>441</td><td>1500000</td><td>1350000</td></tr><tr><td>Agoda Hotel</td><td>191</td><td>1000000</td><td>920000</td></tr><tr><td>Agoda Hotel</td><td>128</td><td>800000</td><td>760000</td></tr><tr><td>LandMark 81</td><td>901</td><td>8000000</td><td>6400000</td></tr><tr><td>LandMark 81</td><td>905</td><td>8000000</td><td>6400000</td></tr><tr><td>LandMark 81</td><td>801</td><td>6000000</td><td>5100000</td></tr><tr><td>LandMark 81</td><td>702</td><td>4500000</td><td>4050000</td></tr><tr><td>Mường Thanh Luxury</td><td>256</td><td>3000000</td><td>2700000</td></tr><tr><td>Mường Thanh Luxury</td><td>345</td><td>5000000</td><td>4250000</td></tr><tr><td>Mường Thanh Luxury</td><td>324</td><td>4000000</td><td>3680000</td></tr><tr><td>Mường Thanh Luxury</td><td>546</td><td>8000000</td><td>6400000</td></tr><tr><td>Mường Thanh Luxury</td><td>145</td><td>2000000</td><td>1900000</td></tr><tr><td>Minh Toàn Galaxy</td><td>201</td><td>900000</td><td>855000</td></tr><tr><td>Minh Toàn Galaxy</td><td>307</td><td>2000000</td><td>1840000</td></tr><tr><td>Minh Toàn Galaxy</td><td>654</td><td>5000000</td><td>4250000</td></tr><tr><td>Minh Toàn Galaxy</td><td>432</td><td>4000000</td><td>3600000</td></tr></table>"
                        ]
                    },
                    "execution_count": 21,
                    "metadata": {},
                    "output_type": "execute_result"
                }
            ],
            "source": [
                "SELECT h.name as hotel, r.room_number, r.price,\n",
                "       CASE WHEN room_type_id = 'type1' THEN (r.price - r.price * 0.05)\n",
                "             WHEN room_type_id = 'type2' THEN (r.price - r.price * 0.08)\n",
                "             WHEN room_type_id = 'type3' THEN (r.price - r.price * 0.10)\n",
                "             WHEN room_type_id = 'type4' THEN (r.price - r.price * 0.15)\n",
                "             WHEN room_type_id = 'type5' THEN (r.price - r.price * 0.20) END as price_after\n",
                "FROM room as r \n",
                "INNER JOIN hotel as h \n",
                "ON r.hotel_id = h.hotel_id "
            ]
        },
        {
            "cell_type": "code",
            "execution_count": 25,
            "metadata": {
                "azdata_cell_guid": "bdae089c-6f8e-44bd-9d59-5b76d2e56d1f",
                "language": "sql",
                "tags": []
            },
            "outputs": [
                {
                    "data": {
                        "text/html": [
                            "(19 rows affected)"
                        ]
                    },
                    "metadata": {},
                    "output_type": "display_data"
                },
                {
                    "data": {
                        "text/html": [
                            "Total execution time: 00:00:00.015"
                        ]
                    },
                    "metadata": {},
                    "output_type": "display_data"
                },
                {
                    "data": {
                        "application/vnd.dataresource+json": {
                            "data": [
                                {
                                    "0": "Triệu Tử Long",
                                    "1": "Mường Thanh Luxury",
                                    "2": "6000000"
                                },
                                {
                                    "0": "Tư Mã Ý",
                                    "1": "LandMark 81",
                                    "2": "32000000"
                                },
                                {
                                    "0": "Lưu Huyền Đức",
                                    "1": "Agoda Hotel",
                                    "2": "8000000"
                                },
                                {
                                    "0": "Lã Phụng Tiên",
                                    "1": "Mường Thanh Luxury",
                                    "2": "20000000"
                                },
                                {
                                    "0": "Lỗ Tử Kính",
                                    "1": "Agoda Hotel",
                                    "2": "17500000"
                                },
                                {
                                    "0": "Quan Vân Trường",
                                    "1": "Minh Toàn Galaxy",
                                    "2": "20000000"
                                },
                                {
                                    "0": "Tuân  Úc",
                                    "1": "Minh Toàn Galaxy",
                                    "2": "20000000"
                                },
                                {
                                    "0": "Tào Mạnh Đức",
                                    "1": "Minh Toàn Galaxy",
                                    "2": "9000000"
                                },
                                {
                                    "0": "Chu Công Cẩn",
                                    "1": "Agoda Hotel",
                                    "2": "17500000"
                                },
                                {
                                    "0": "Lưu Huyền Đức",
                                    "1": "LandMark 81",
                                    "2": "54000000"
                                },
                                {
                                    "0": "Quan Vân Trường",
                                    "1": "Minh Toàn Galaxy",
                                    "2": "45000000"
                                },
                                {
                                    "0": "Tư Mã Ý",
                                    "1": "Mường Thanh Luxury",
                                    "2": "8000000"
                                },
                                {
                                    "0": "Triệu Tử Long",
                                    "1": "Minh Toàn Galaxy",
                                    "2": "20000000"
                                },
                                {
                                    "0": "Lỗ Tử Kính",
                                    "1": "Agoda Hotel",
                                    "2": "4800000"
                                },
                                {
                                    "0": "Tào Mạnh Đức",
                                    "1": "Minh Toàn Galaxy",
                                    "2": "4000000"
                                },
                                {
                                    "0": "Triệu Tử Long",
                                    "1": "Mường Thanh Luxury",
                                    "2": "16000000"
                                },
                                {
                                    "0": "Tư Mã Ý",
                                    "1": "Mường Thanh Luxury",
                                    "2": "9000000"
                                },
                                {
                                    "0": "Lỗ Tử Kính",
                                    "1": "LandMark 81",
                                    "2": "18000000"
                                },
                                {
                                    "0": "Quan Vân Trường",
                                    "1": "Mường Thanh Luxury",
                                    "2": "12000000"
                                }
                            ],
                            "schema": {
                                "fields": [
                                    {
                                        "name": "full_name"
                                    },
                                    {
                                        "name": "hotel"
                                    },
                                    {
                                        "name": "room_price"
                                    }
                                ]
                            }
                        },
                        "text/html": [
                            "<table><tr><th>full_name</th><th>hotel</th><th>room_price</th></tr><tr><td>Triệu Tử Long</td><td>Mường Thanh Luxury</td><td>6000000</td></tr><tr><td>Tư Mã Ý</td><td>LandMark 81</td><td>32000000</td></tr><tr><td>Lưu Huyền Đức</td><td>Agoda Hotel</td><td>8000000</td></tr><tr><td>Lã Phụng Tiên</td><td>Mường Thanh Luxury</td><td>20000000</td></tr><tr><td>Lỗ Tử Kính</td><td>Agoda Hotel</td><td>17500000</td></tr><tr><td>Quan Vân Trường</td><td>Minh Toàn Galaxy</td><td>20000000</td></tr><tr><td>Tuân  Úc</td><td>Minh Toàn Galaxy</td><td>20000000</td></tr><tr><td>Tào Mạnh Đức</td><td>Minh Toàn Galaxy</td><td>9000000</td></tr><tr><td>Chu Công Cẩn</td><td>Agoda Hotel</td><td>17500000</td></tr><tr><td>Lưu Huyền Đức</td><td>LandMark 81</td><td>54000000</td></tr><tr><td>Quan Vân Trường</td><td>Minh Toàn Galaxy</td><td>45000000</td></tr><tr><td>Tư Mã Ý</td><td>Mường Thanh Luxury</td><td>8000000</td></tr><tr><td>Triệu Tử Long</td><td>Minh Toàn Galaxy</td><td>20000000</td></tr><tr><td>Lỗ Tử Kính</td><td>Agoda Hotel</td><td>4800000</td></tr><tr><td>Tào Mạnh Đức</td><td>Minh Toàn Galaxy</td><td>4000000</td></tr><tr><td>Triệu Tử Long</td><td>Mường Thanh Luxury</td><td>16000000</td></tr><tr><td>Tư Mã Ý</td><td>Mường Thanh Luxury</td><td>9000000</td></tr><tr><td>Lỗ Tử Kính</td><td>LandMark 81</td><td>18000000</td></tr><tr><td>Quan Vân Trường</td><td>Mường Thanh Luxury</td><td>12000000</td></tr></table>"
                        ]
                    },
                    "execution_count": 25,
                    "metadata": {},
                    "output_type": "execute_result"
                }
            ],
            "source": [
                "SELECT CONCAT(Rtrim(g.last_name), ' ', RTRIM(g.middle_name), ' ', RTRIM(g.first_name)) as full_name,\n",
                "        h.name as hotel, b.duration_stay * r.price as room_price\n",
                "FROM booking as b \n",
                "INNER JOIN room as r \n",
                "ON b.room_booking_id = r.room_id \n",
                "INNER JOIN hotel as h \n",
                "ON b.hotel_booking_id = h.hotel_id \n",
                "INNER JOIN guest as g \n",
                "ON b.guest_booking_id = g.guest_id \n",
                "WHERE g.sex = N'Nam'\n",
                "AND YEAR(GETDATE()) - YEAR(g.date_of_birth) > 50"
            ]
        },
        {
            "cell_type": "code",
            "execution_count": 29,
            "metadata": {
                "azdata_cell_guid": "99553c30-441e-49b6-8a18-f7b776867c4c",
                "language": "sql"
            },
            "outputs": [
                {
                    "data": {
                        "text/html": [
                            "(3 rows affected)"
                        ]
                    },
                    "metadata": {},
                    "output_type": "display_data"
                },
                {
                    "data": {
                        "text/html": [
                            "Total execution time: 00:00:00.041"
                        ]
                    },
                    "metadata": {},
                    "output_type": "display_data"
                },
                {
                    "data": {
                        "application/vnd.dataresource+json": {
                            "data": [
                                {
                                    "0": "meal_23   ",
                                    "1": "Cơm chiên dương châu",
                                    "2": "100000"
                                },
                                {
                                    "0": "meal_27   ",
                                    "1": "Súp kem nấm",
                                    "2": "120000"
                                },
                                {
                                    "0": "meal_31   ",
                                    "1": "Cơm chiên dương châu",
                                    "2": "100000"
                                }
                            ],
                            "schema": {
                                "fields": [
                                    {
                                        "name": "meal_id"
                                    },
                                    {
                                        "name": "dish_name"
                                    },
                                    {
                                        "name": "cost"
                                    }
                                ]
                            }
                        },
                        "text/html": [
                            "<table><tr><th>meal_id</th><th>dish_name</th><th>cost</th></tr><tr><td>meal_23   </td><td>Cơm chiên dương châu</td><td>100000</td></tr><tr><td>meal_27   </td><td>Súp kem nấm</td><td>120000</td></tr><tr><td>meal_31   </td><td>Cơm chiên dương châu</td><td>100000</td></tr></table>"
                        ]
                    },
                    "execution_count": 29,
                    "metadata": {},
                    "output_type": "execute_result"
                }
            ],
            "source": [
                "SELECT m.meal_id, d.dish_name, d.price * md.amount as cost\n",
                "FROM meal as m \n",
                "INNER JOIN meal_detail as md \n",
                "ON m.meal_id = md.meal_id \n",
                "INNER JOIN dish_name as d \n",
                "ON d.dish_id = md.dish_id \n",
                "INNER JOIN booking as b \n",
                "ON m.booking_id = b.booking_id\n",
                "WHERE m.time = N'Sáng'\n",
                "AND b.hotel_booking_id = 'Hotel01' "
            ]
        },
        {
            "cell_type": "code",
            "execution_count": 31,
            "metadata": {
                "azdata_cell_guid": "7896e051-1a76-4ab5-90ff-c168bde08703",
                "language": "sql"
            },
            "outputs": [
                {
                    "data": {
                        "text/html": [
                            "(4 rows affected)"
                        ]
                    },
                    "metadata": {},
                    "output_type": "display_data"
                },
                {
                    "data": {
                        "text/html": [
                            "Total execution time: 00:00:00.068"
                        ]
                    },
                    "metadata": {},
                    "output_type": "display_data"
                },
                {
                    "data": {
                        "application/vnd.dataresource+json": {
                            "data": [
                                {
                                    "0": "Agoda Hotel",
                                    "1": "25 Lý Tự Trọng, Phường 15, Quận 10, TP Hồ Chí Minh",
                                    "2": "4"
                                },
                                {
                                    "0": "LandMark 81",
                                    "1": "195 Trần Cao Vân, Phường Tân Phú, Quận 7, TP Hồ Chí Minh",
                                    "2": "4"
                                },
                                {
                                    "0": "Minh Toàn Galaxy",
                                    "1": "87 Đường 3/2, Phường Bến Nghé, Quận 1, TP Hồ Chí Minh",
                                    "2": "4"
                                },
                                {
                                    "0": "Mường Thanh Luxury",
                                    "1": "67 Cách Mạng Tháng 8, Phường 8, Quận 10, TP Hồ Chí Minh",
                                    "2": "5"
                                }
                            ],
                            "schema": {
                                "fields": [
                                    {
                                        "name": "hotel"
                                    },
                                    {
                                        "name": "address"
                                    },
                                    {
                                        "name": "employee_count"
                                    }
                                ]
                            }
                        },
                        "text/html": [
                            "<table><tr><th>hotel</th><th>address</th><th>employee_count</th></tr><tr><td>Agoda Hotel</td><td>25 Lý Tự Trọng, Phường 15, Quận 10, TP Hồ Chí Minh</td><td>4</td></tr><tr><td>LandMark 81</td><td>195 Trần Cao Vân, Phường Tân Phú, Quận 7, TP Hồ Chí Minh</td><td>4</td></tr><tr><td>Minh Toàn Galaxy</td><td>87 Đường 3/2, Phường Bến Nghé, Quận 1, TP Hồ Chí Minh</td><td>4</td></tr><tr><td>Mường Thanh Luxury</td><td>67 Cách Mạng Tháng 8, Phường 8, Quận 10, TP Hồ Chí Minh</td><td>5</td></tr></table>"
                        ]
                    },
                    "execution_count": 31,
                    "metadata": {},
                    "output_type": "execute_result"
                }
            ],
            "source": [
                "SELECT h.name as hotel, CONCAT(RTRIM(street),', ', RTRIM(ward),', ', RTRIM(district),', ',RTRIM(city)) as address,\n",
                "        COUNT(employee_id) as employee_count\n",
                "FROM hotel as h\n",
                "INNER JOIN employee as e \n",
                "ON h.hotel_id = e.emp_hotel_id \n",
                "INNER JOIn address as a \n",
                "ON h.address_hotel_id = a.address_id\n",
                "GROUP BY h.name, street, ward, district, city;"
            ]
        },
        {
            "cell_type": "code",
            "execution_count": 37,
            "metadata": {
                "azdata_cell_guid": "9ec89534-eb02-4a0c-baa7-8ecf63425fa1",
                "language": "sql"
            },
            "outputs": [
                {
                    "data": {
                        "text/html": [
                            "(4 rows affected)"
                        ]
                    },
                    "metadata": {},
                    "output_type": "display_data"
                },
                {
                    "data": {
                        "text/html": [
                            "Total execution time: 00:00:00.021"
                        ]
                    },
                    "metadata": {},
                    "output_type": "display_data"
                },
                {
                    "data": {
                        "application/vnd.dataresource+json": {
                            "data": [
                                {
                                    "0": "Agoda Hotel",
                                    "1": "2500000"
                                },
                                {
                                    "0": "Minh Toàn Galaxy",
                                    "1": "5000000"
                                },
                                {
                                    "0": "Mường Thanh Luxury",
                                    "1": "8000000"
                                },
                                {
                                    "0": "LandMark 81",
                                    "1": "8000000"
                                }
                            ],
                            "schema": {
                                "fields": [
                                    {
                                        "name": "hotel"
                                    },
                                    {
                                        "name": "max_room_price"
                                    }
                                ]
                            }
                        },
                        "text/html": [
                            "<table><tr><th>hotel</th><th>max_room_price</th></tr><tr><td>Agoda Hotel</td><td>2500000</td></tr><tr><td>Minh Toàn Galaxy</td><td>5000000</td></tr><tr><td>Mường Thanh Luxury</td><td>8000000</td></tr><tr><td>LandMark 81</td><td>8000000</td></tr></table>"
                        ]
                    },
                    "execution_count": 37,
                    "metadata": {},
                    "output_type": "execute_result"
                }
            ],
            "source": [
                "SELECT h.name as hotel, MAX(r.price) as max_room_price\n",
                "FROM hotel as h \n",
                "INNER JOIN room as r \n",
                "ON h.hotel_id = r.hotel_id \n",
                "GROUP BY h.name\n",
                "ORDER BY max_room_price ASC;"
            ]
        },
        {
            "cell_type": "code",
            "execution_count": 41,
            "metadata": {
                "azdata_cell_guid": "1215e963-899b-4441-99b1-7035b1b7a778",
                "language": "sql"
            },
            "outputs": [
                {
                    "data": {
                        "text/html": [
                            "(10 rows affected)"
                        ]
                    },
                    "metadata": {},
                    "output_type": "display_data"
                },
                {
                    "data": {
                        "text/html": [
                            "Total execution time: 00:00:00.025"
                        ]
                    },
                    "metadata": {},
                    "output_type": "display_data"
                },
                {
                    "data": {
                        "application/vnd.dataresource+json": {
                            "data": [
                                {
                                    "0": "Agoda Hotel",
                                    "1": "Cash",
                                    "2": "1"
                                },
                                {
                                    "0": "Agoda Hotel",
                                    "1": "Credit Card",
                                    "2": "4"
                                },
                                {
                                    "0": "LandMark 81",
                                    "1": "Credit Card",
                                    "2": "3"
                                },
                                {
                                    "0": "LandMark 81",
                                    "1": "Cash",
                                    "2": "4"
                                },
                                {
                                    "0": "Minh Toàn Galaxy",
                                    "1": "Cash",
                                    "2": "1"
                                },
                                {
                                    "0": "Minh Toàn Galaxy",
                                    "1": "E-payment",
                                    "2": "2"
                                },
                                {
                                    "0": "Minh Toàn Galaxy",
                                    "1": "Credit Card",
                                    "2": "3"
                                },
                                {
                                    "0": "Mường Thanh Luxury",
                                    "1": "E-payment",
                                    "2": "1"
                                },
                                {
                                    "0": "Mường Thanh Luxury",
                                    "1": "Cash",
                                    "2": "2"
                                },
                                {
                                    "0": "Mường Thanh Luxury",
                                    "1": "Credit Card",
                                    "2": "5"
                                }
                            ],
                            "schema": {
                                "fields": [
                                    {
                                        "name": "hotel"
                                    },
                                    {
                                        "name": "payment_type"
                                    },
                                    {
                                        "name": "payment_type_count"
                                    }
                                ]
                            }
                        },
                        "text/html": [
                            "<table><tr><th>hotel</th><th>payment_type</th><th>payment_type_count</th></tr><tr><td>Agoda Hotel</td><td>Cash</td><td>1</td></tr><tr><td>Agoda Hotel</td><td>Credit Card</td><td>4</td></tr><tr><td>LandMark 81</td><td>Credit Card</td><td>3</td></tr><tr><td>LandMark 81</td><td>Cash</td><td>4</td></tr><tr><td>Minh Toàn Galaxy</td><td>Cash</td><td>1</td></tr><tr><td>Minh Toàn Galaxy</td><td>E-payment</td><td>2</td></tr><tr><td>Minh Toàn Galaxy</td><td>Credit Card</td><td>3</td></tr><tr><td>Mường Thanh Luxury</td><td>E-payment</td><td>1</td></tr><tr><td>Mường Thanh Luxury</td><td>Cash</td><td>2</td></tr><tr><td>Mường Thanh Luxury</td><td>Credit Card</td><td>5</td></tr></table>"
                        ]
                    },
                    "execution_count": 41,
                    "metadata": {},
                    "output_type": "execute_result"
                }
            ],
            "source": [
                "SELECT h.name as hotel, b.payment_type,COUNT(payment_type) as payment_type_count\n",
                "FROM hotel as h \n",
                "INNER JOIN booking as b \n",
                "ON h.hotel_id = b.hotel_booking_id \n",
                "GROUP BY h.name, payment_type\n",
                "ORDER BY hotel, payment_type_count;"
            ]
        },
        {
            "cell_type": "code",
            "execution_count": 45,
            "metadata": {
                "azdata_cell_guid": "e10b1393-821d-4279-8db1-2632daccaa50",
                "language": "sql",
                "tags": []
            },
            "outputs": [
                {
                    "data": {
                        "text/html": [
                            "(3 rows affected)"
                        ]
                    },
                    "metadata": {},
                    "output_type": "display_data"
                },
                {
                    "data": {
                        "text/html": [
                            "Total execution time: 00:00:00.013"
                        ]
                    },
                    "metadata": {},
                    "output_type": "display_data"
                },
                {
                    "data": {
                        "application/vnd.dataresource+json": {
                            "data": [
                                {
                                    "0": "Mường Thanh Luxury",
                                    "1": "Đổi tiền",
                                    "2": "2"
                                },
                                {
                                    "0": "Mường Thanh Luxury",
                                    "1": "Giặt Ủi",
                                    "2": "4"
                                },
                                {
                                    "0": "Mường Thanh Luxury",
                                    "1": "Hồ bơi",
                                    "2": "8"
                                }
                            ],
                            "schema": {
                                "fields": [
                                    {
                                        "name": "hotel"
                                    },
                                    {
                                        "name": "service_name"
                                    },
                                    {
                                        "name": "total"
                                    }
                                ]
                            }
                        },
                        "text/html": [
                            "<table><tr><th>hotel</th><th>service_name</th><th>total</th></tr><tr><td>Mường Thanh Luxury</td><td>Đổi tiền</td><td>2</td></tr><tr><td>Mường Thanh Luxury</td><td>Giặt Ủi</td><td>4</td></tr><tr><td>Mường Thanh Luxury</td><td>Hồ bơi</td><td>8</td></tr></table>"
                        ]
                    },
                    "execution_count": 45,
                    "metadata": {},
                    "output_type": "execute_result"
                }
            ],
            "source": [
                "SELECT h.name as hotel, hs.service_name, SUM(s.count) as total\n",
                "FROM hotel as h \n",
                "INNER JOIN hotel_service as hs \n",
                "ON h.hotel_id = hs.hotel_id \n",
                "INNER JOIN service_used as s\n",
                "ON hs.service_id = s.hotel_service_id \n",
                "WHERE h.hotel_id = 'Hotel01'\n",
                "GROUP BY h.name,hs.service_name\n",
                "ORDER BY hs.service_name"
            ]
        },
        {
            "cell_type": "code",
            "execution_count": 50,
            "metadata": {
                "azdata_cell_guid": "b77d2e67-2141-44b9-8588-bc887978990e",
                "language": "sql"
            },
            "outputs": [
                {
                    "data": {
                        "text/html": [
                            "(12 rows affected)"
                        ]
                    },
                    "metadata": {},
                    "output_type": "display_data"
                },
                {
                    "data": {
                        "text/html": [
                            "Total execution time: 00:00:00.029"
                        ]
                    },
                    "metadata": {},
                    "output_type": "display_data"
                },
                {
                    "data": {
                        "application/vnd.dataresource+json": {
                            "data": [
                                {
                                    "0": "Chu Công Cẩn",
                                    "1": "1",
                                    "2": "7"
                                },
                                {
                                    "0": "Hoàng Nguyệt Anh",
                                    "1": "3",
                                    "2": "4"
                                },
                                {
                                    "0": "Lã Phụng Tiên",
                                    "1": "1",
                                    "2": "5"
                                },
                                {
                                    "0": "Lỗ Tử Kính",
                                    "1": "3",
                                    "2": "5"
                                },
                                {
                                    "0": "Lưu Huyền Đức",
                                    "1": "2",
                                    "2": "5"
                                },
                                {
                                    "0": "Quan Vân Trường",
                                    "1": "3",
                                    "2": "5"
                                },
                                {
                                    "0": "Tào Mạnh Đức",
                                    "1": "2",
                                    "2": "5"
                                },
                                {
                                    "0": "Thái Vân Cơ",
                                    "1": "2",
                                    "2": "4"
                                },
                                {
                                    "0": "Tôn Thượng Hương",
                                    "1": "2",
                                    "2": "3"
                                },
                                {
                                    "0": "Triệu Tử Long",
                                    "1": "3",
                                    "2": "3"
                                },
                                {
                                    "0": "Tư Mã Ý",
                                    "1": "3",
                                    "2": "3"
                                },
                                {
                                    "0": "Tuân  Úc",
                                    "1": "1",
                                    "2": "5"
                                }
                            ],
                            "schema": {
                                "fields": [
                                    {
                                        "name": "full_name"
                                    },
                                    {
                                        "name": "booking_count"
                                    },
                                    {
                                        "name": "avg_stay"
                                    }
                                ]
                            }
                        },
                        "text/html": [
                            "<table><tr><th>full_name</th><th>booking_count</th><th>avg_stay</th></tr><tr><td>Chu Công Cẩn</td><td>1</td><td>7</td></tr><tr><td>Hoàng Nguyệt Anh</td><td>3</td><td>4</td></tr><tr><td>Lã Phụng Tiên</td><td>1</td><td>5</td></tr><tr><td>Lỗ Tử Kính</td><td>3</td><td>5</td></tr><tr><td>Lưu Huyền Đức</td><td>2</td><td>5</td></tr><tr><td>Quan Vân Trường</td><td>3</td><td>5</td></tr><tr><td>Tào Mạnh Đức</td><td>2</td><td>5</td></tr><tr><td>Thái Vân Cơ</td><td>2</td><td>4</td></tr><tr><td>Tôn Thượng Hương</td><td>2</td><td>3</td></tr><tr><td>Triệu Tử Long</td><td>3</td><td>3</td></tr><tr><td>Tư Mã Ý</td><td>3</td><td>3</td></tr><tr><td>Tuân  Úc</td><td>1</td><td>5</td></tr></table>"
                        ]
                    },
                    "execution_count": 50,
                    "metadata": {},
                    "output_type": "execute_result"
                }
            ],
            "source": [
                "SELECT CONCAT(Rtrim(g.last_name), ' ', RTRIM(g.middle_name), ' ', RTRIM(g.first_name)) as full_name,\n",
                "        COUNT(booking_id) as booking_count, AVG(duration_stay) as avg_stay\n",
                "FROM guest as g \n",
                "INNER JOIN booking as b \n",
                "ON g.guest_id = b.guest_booking_id \n",
                "GROUP BY last_name, middle_name, first_name\n",
                "HAVING COUNT(booking_id) >= 3 OR AVG(duration_stay) >= 3\n",
                "ORDER BY full_name;\n"
            ]
        },
        {
            "cell_type": "code",
            "execution_count": 49,
            "metadata": {
                "azdata_cell_guid": "c708d863-b8b5-403b-8ed2-03886f7e152d",
                "language": "sql"
            },
            "outputs": [
                {
                    "data": {
                        "text/html": [
                            "(6 rows affected)"
                        ]
                    },
                    "metadata": {},
                    "output_type": "display_data"
                },
                {
                    "data": {
                        "text/html": [
                            "Total execution time: 00:00:00.036"
                        ]
                    },
                    "metadata": {},
                    "output_type": "display_data"
                },
                {
                    "data": {
                        "application/vnd.dataresource+json": {
                            "data": [
                                {
                                    "0": "meal_02   ",
                                    "1": "Agoda Menu",
                                    "2": "2"
                                },
                                {
                                    "0": "meal_05   ",
                                    "1": "Agoda Menu",
                                    "2": "2"
                                },
                                {
                                    "0": "meal_14   ",
                                    "1": "Minh Toàn Menu",
                                    "2": "2"
                                },
                                {
                                    "0": "meal_33   ",
                                    "1": "Mường Thanh Menu",
                                    "2": "2"
                                },
                                {
                                    "0": "meal_35   ",
                                    "1": "Mường Thanh Menu",
                                    "2": "2"
                                },
                                {
                                    "0": "meal_47   ",
                                    "1": "Land Mark Menu",
                                    "2": "2"
                                }
                            ],
                            "schema": {
                                "fields": [
                                    {
                                        "name": "meal_id"
                                    },
                                    {
                                        "name": "name"
                                    },
                                    {
                                        "name": "waiter_count"
                                    }
                                ]
                            }
                        },
                        "text/html": [
                            "<table><tr><th>meal_id</th><th>name</th><th>waiter_count</th></tr><tr><td>meal_02   </td><td>Agoda Menu</td><td>2</td></tr><tr><td>meal_05   </td><td>Agoda Menu</td><td>2</td></tr><tr><td>meal_14   </td><td>Minh Toàn Menu</td><td>2</td></tr><tr><td>meal_33   </td><td>Mường Thanh Menu</td><td>2</td></tr><tr><td>meal_35   </td><td>Mường Thanh Menu</td><td>2</td></tr><tr><td>meal_47   </td><td>Land Mark Menu</td><td>2</td></tr></table>"
                        ]
                    },
                    "execution_count": 49,
                    "metadata": {},
                    "output_type": "execute_result"
                }
            ],
            "source": [
                "SELECT m.meal_id, mn.name, COUNT(s.waiter_id) as waiter_count\n",
                "FROM meal as m \n",
                "INNER JOIN serve as s \n",
                "ON m.meal_id = s.meal_id \n",
                "INNER JOIN menu as mn \n",
                "ON mn.menu_id = m.menu_id \n",
                "WHERE m.time = N'Tối'\n",
                "GROUP BY m.meal_id, mn.name\n",
                "HAVING COUNT(s.waiter_id) > 1;"
            ]
        },
        {
            "cell_type": "code",
            "execution_count": 52,
            "metadata": {
                "azdata_cell_guid": "a80f22ed-ac44-4443-bbd0-ff84ed94f1cc",
                "language": "sql"
            },
            "outputs": [
                {
                    "data": {
                        "text/html": [
                            "(3 rows affected)"
                        ]
                    },
                    "metadata": {},
                    "output_type": "display_data"
                },
                {
                    "data": {
                        "text/html": [
                            "Total execution time: 00:00:00.059"
                        ]
                    },
                    "metadata": {},
                    "output_type": "display_data"
                },
                {
                    "data": {
                        "application/vnd.dataresource+json": {
                            "data": [
                                {
                                    "0": "guest_05  ",
                                    "1": "3"
                                },
                                {
                                    "0": "guest_09  ",
                                    "1": "3"
                                },
                                {
                                    "0": "guest_12  ",
                                    "1": "8"
                                }
                            ],
                            "schema": {
                                "fields": [
                                    {
                                        "name": "guest_booking_id"
                                    },
                                    {
                                        "name": "total_used"
                                    }
                                ]
                            }
                        },
                        "text/html": [
                            "<table><tr><th>guest_booking_id</th><th>total_used</th></tr><tr><td>guest_05  </td><td>3</td></tr><tr><td>guest_09  </td><td>3</td></tr><tr><td>guest_12  </td><td>8</td></tr></table>"
                        ]
                    },
                    "execution_count": 52,
                    "metadata": {},
                    "output_type": "execute_result"
                }
            ],
            "source": [
                "SELECT b.guest_booking_id, SUM(s.count) as total_used\n",
                "FROM booking as b \n",
                "INNER JOIN service_used as s \n",
                "ON b.booking_id = s.service_booking_id \n",
                "WHERE b.hotel_booking_id = 'Hotel01'\n",
                "GROUP BY b.guest_booking_id \n",
                "HAVING SUM(s.count) > 2;"
            ]
        },
        {
            "cell_type": "code",
            "execution_count": 54,
            "metadata": {
                "azdata_cell_guid": "ff1384a2-916e-4d80-80d2-aba9e003ad84",
                "language": "sql"
            },
            "outputs": [
                {
                    "data": {
                        "text/html": [
                            "(1 row affected)"
                        ]
                    },
                    "metadata": {},
                    "output_type": "display_data"
                },
                {
                    "data": {
                        "text/html": [
                            "Total execution time: 00:00:00.034"
                        ]
                    },
                    "metadata": {},
                    "output_type": "display_data"
                },
                {
                    "data": {
                        "application/vnd.dataresource+json": {
                            "data": [
                                {
                                    "0": "LandMark 81",
                                    "1": "2"
                                }
                            ],
                            "schema": {
                                "fields": [
                                    {
                                        "name": "hotel"
                                    },
                                    {
                                        "name": "total_suite_room"
                                    }
                                ]
                            }
                        },
                        "text/html": [
                            "<table><tr><th>hotel</th><th>total_suite_room</th></tr><tr><td>LandMark 81</td><td>2</td></tr></table>"
                        ]
                    },
                    "execution_count": 54,
                    "metadata": {},
                    "output_type": "execute_result"
                }
            ],
            "source": [
                "SELECT TOP 1 h.name as hotel ,COUNT(*) as total_suite_room\n",
                "FROM room as r \n",
                "INNER JOIN hotel as h \n",
                "ON r.hotel_id = h.hotel_id \n",
                "WHERE r.room_type_id = 'type5'\n",
                "GROUP BY h.name\n",
                "ORDER BY total_suite_room DESC;"
            ]
        },
        {
            "cell_type": "code",
            "execution_count": 9,
            "metadata": {
                "azdata_cell_guid": "f2826145-0898-47b6-8db1-009f358c1af5",
                "language": "sql"
            },
            "outputs": [
                {
                    "data": {
                        "text/html": [
                            "(5 rows affected)"
                        ]
                    },
                    "metadata": {},
                    "output_type": "display_data"
                },
                {
                    "data": {
                        "text/html": [
                            "Total execution time: 00:00:00.009"
                        ]
                    },
                    "metadata": {},
                    "output_type": "display_data"
                },
                {
                    "data": {
                        "application/vnd.dataresource+json": {
                            "data": [
                                {
                                    "0": "booking01 ",
                                    "1": "Triệu Tử Long",
                                    "2": "Nam",
                                    "3": "0965233244"
                                },
                                {
                                    "0": "booking04 ",
                                    "1": "Lã Phụng Tiên",
                                    "2": "Nam",
                                    "3": "0233299122"
                                },
                                {
                                    "0": "booking16 ",
                                    "1": "Tư Mã Ý",
                                    "2": "Nam",
                                    "3": "0972822322"
                                },
                                {
                                    "0": "booking21 ",
                                    "1": "Triệu Tử Long",
                                    "2": "Nam",
                                    "3": "0965233244"
                                },
                                {
                                    "0": "booking23 ",
                                    "1": "Tư Mã Ý",
                                    "2": "Nam",
                                    "3": "0972822322"
                                }
                            ],
                            "schema": {
                                "fields": [
                                    {
                                        "name": "booking_id"
                                    },
                                    {
                                        "name": "full_name"
                                    },
                                    {
                                        "name": "sex"
                                    },
                                    {
                                        "name": "contact_number"
                                    }
                                ]
                            }
                        },
                        "text/html": [
                            "<table><tr><th>booking_id</th><th>full_name</th><th>sex</th><th>contact_number</th></tr><tr><td>booking01 </td><td>Triệu Tử Long</td><td>Nam</td><td>0965233244</td></tr><tr><td>booking04 </td><td>Lã Phụng Tiên</td><td>Nam</td><td>0233299122</td></tr><tr><td>booking16 </td><td>Tư Mã Ý</td><td>Nam</td><td>0972822322</td></tr><tr><td>booking21 </td><td>Triệu Tử Long</td><td>Nam</td><td>0965233244</td></tr><tr><td>booking23 </td><td>Tư Mã Ý</td><td>Nam</td><td>0972822322</td></tr></table>"
                        ]
                    },
                    "execution_count": 9,
                    "metadata": {},
                    "output_type": "execute_result"
                }
            ],
            "source": [
                "SELECT b.booking_id, \n",
                "       CONCAT(Rtrim(g.last_name), ' ', RTRIM(g.middle_name), ' ', RTRIM(g.first_name)) as full_name,\n",
                "       sex, g.contact_number \n",
                "FROM booking as b\n",
                "INNER JOIn guest as g \n",
                "ON b.guest_booking_id = g.guest_id \n",
                "WHERE b.guest_booking_id  IN (\n",
                "SELECT guest_id\n",
                "FROM guest\n",
                "WHERE sex = N'Nam'\n",
                "EXCEPT \n",
                "SELECT guest_booking_id \n",
                "FROM booking \n",
                "WHERE duration_stay > 5 AND payment_type = 'Credit Card')\n",
                "AND b.hotel_booking_id = 'Hotel01';"
            ]
        },
        {
            "cell_type": "code",
            "execution_count": 17,
            "metadata": {
                "azdata_cell_guid": "2d4229bb-636f-49bb-8041-f172cd60eb2e",
                "language": "sql"
            },
            "outputs": [
                {
                    "data": {
                        "text/html": [
                            "(3 rows affected)"
                        ]
                    },
                    "metadata": {},
                    "output_type": "display_data"
                },
                {
                    "data": {
                        "text/html": [
                            "Total execution time: 00:00:00.089"
                        ]
                    },
                    "metadata": {},
                    "output_type": "display_data"
                },
                {
                    "data": {
                        "application/vnd.dataresource+json": {
                            "data": [
                                {
                                    "0": "Lưu Huyền Đức",
                                    "1": "Agoda Hotel"
                                },
                                {
                                    "0": "Hoàng Nguyệt Anh",
                                    "1": "LandMark 81"
                                },
                                {
                                    "0": "Thái Vân Cơ",
                                    "1": "LandMark 81"
                                }
                            ],
                            "schema": {
                                "fields": [
                                    {
                                        "name": "full_name"
                                    },
                                    {
                                        "name": "hotel"
                                    }
                                ]
                            }
                        },
                        "text/html": [
                            "<table><tr><th>full_name</th><th>hotel</th></tr><tr><td>Lưu Huyền Đức</td><td>Agoda Hotel</td></tr><tr><td>Hoàng Nguyệt Anh</td><td>LandMark 81</td></tr><tr><td>Thái Vân Cơ</td><td>LandMark 81</td></tr></table>"
                        ]
                    },
                    "execution_count": 17,
                    "metadata": {},
                    "output_type": "execute_result"
                }
            ],
            "source": [
                "SELECT CONCAT(Rtrim(g.last_name), ' ', RTRIM(g.middle_name), ' ', RTRIM(g.first_name)) as full_name,\n",
                "        h.name as hotel\n",
                "FROM booking as b \n",
                "INNER JOIN hotel as h\n",
                "ON b.hotel_booking_id = h.hotel_id\n",
                "INNER JOIN guest as g\n",
                "On b.guest_booking_id = g.guest_id \n",
                "WHERE b.booking_id IN (\n",
                "    SELECT booking_id \n",
                "    FROM booking WHERE MONTH(booking_date) = 3\n",
                "    INTERSECT \n",
                "    SELECT booking_id \n",
                "    FROM booking WHERE payment_type = 'Credit Card'\n",
                ")"
            ]
        },
        {
            "cell_type": "code",
            "execution_count": 3,
            "metadata": {
                "azdata_cell_guid": "10023cdc-4051-4e37-b64b-6f5eb0ebf420",
                "language": "sql"
            },
            "outputs": [
                {
                    "data": {
                        "text/html": [
                            "(9 rows affected)"
                        ]
                    },
                    "metadata": {},
                    "output_type": "display_data"
                },
                {
                    "data": {
                        "text/html": [
                            "Total execution time: 00:00:00.039"
                        ]
                    },
                    "metadata": {},
                    "output_type": "display_data"
                },
                {
                    "data": {
                        "application/vnd.dataresource+json": {
                            "data": [
                                {
                                    "0": "Chu Công Cẩn",
                                    "1": "1967-08-31",
                                    "2": "0905656565",
                                    "3": "1",
                                    "4": "7"
                                },
                                {
                                    "0": "Lưu Huyền Đức",
                                    "1": "1950-06-24",
                                    "2": "0905236555",
                                    "3": "2",
                                    "4": "5"
                                },
                                {
                                    "0": "Lã Phụng Tiên",
                                    "1": "1962-05-15",
                                    "2": "0233299122",
                                    "3": "1",
                                    "4": "5"
                                },
                                {
                                    "0": "Hoàng Nguyệt Anh",
                                    "1": "1967-09-01",
                                    "2": "0989212234",
                                    "3": "3",
                                    "4": "4"
                                },
                                {
                                    "0": "Quan Vân Trường",
                                    "1": "1949-02-22",
                                    "2": "0898221777",
                                    "3": "3",
                                    "4": "5"
                                },
                                {
                                    "0": "Thái Vân Cơ",
                                    "1": "1959-02-22",
                                    "2": "0332123332",
                                    "3": "2",
                                    "4": "4"
                                },
                                {
                                    "0": "Tào Mạnh Đức",
                                    "1": "1954-02-22",
                                    "2": "0789212345",
                                    "3": "2",
                                    "4": "5"
                                },
                                {
                                    "0": "Tuân  Úc",
                                    "1": "1945-09-21",
                                    "2": "0889870623",
                                    "3": "1",
                                    "4": "5"
                                },
                                {
                                    "0": "Lỗ Tử Kính",
                                    "1": "1959-06-23",
                                    "2": "0923012678",
                                    "3": "3",
                                    "4": "5"
                                }
                            ],
                            "schema": {
                                "fields": [
                                    {
                                        "name": "full_name"
                                    },
                                    {
                                        "name": "date_of_birth"
                                    },
                                    {
                                        "name": "contact_number"
                                    },
                                    {
                                        "name": "total_booking"
                                    },
                                    {
                                        "name": "avg_duration"
                                    }
                                ]
                            }
                        },
                        "text/html": [
                            "<table>\n",
                            "<tr><th>full_name</th><th>date_of_birth</th><th>contact_number</th><th>total_booking</th><th>avg_duration</th></tr>\n",
                            "<tr><td>Chu Công Cẩn</td><td>1967-08-31</td><td>0905656565</td><td>1</td><td>7</td></tr>\n",
                            "<tr><td>Lưu Huyền Đức</td><td>1950-06-24</td><td>0905236555</td><td>2</td><td>5</td></tr>\n",
                            "<tr><td>Lã Phụng Tiên</td><td>1962-05-15</td><td>0233299122</td><td>1</td><td>5</td></tr>\n",
                            "<tr><td>Hoàng Nguyệt Anh</td><td>1967-09-01</td><td>0989212234</td><td>3</td><td>4</td></tr>\n",
                            "<tr><td>Quan Vân Trường</td><td>1949-02-22</td><td>0898221777</td><td>3</td><td>5</td></tr>\n",
                            "<tr><td>Thái Vân Cơ</td><td>1959-02-22</td><td>0332123332</td><td>2</td><td>4</td></tr>\n",
                            "<tr><td>Tào Mạnh Đức</td><td>1954-02-22</td><td>0789212345</td><td>2</td><td>5</td></tr>\n",
                            "<tr><td>Tuân  Úc</td><td>1945-09-21</td><td>0889870623</td><td>1</td><td>5</td></tr>\n",
                            "<tr><td>Lỗ Tử Kính</td><td>1959-06-23</td><td>0923012678</td><td>3</td><td>5</td></tr>\n",
                            "</table>"
                        ]
                    },
                    "execution_count": 3,
                    "metadata": {},
                    "output_type": "execute_result"
                }
            ],
            "source": [
                "SELECT CONCAT(Rtrim(g.last_name), ' ', RTRIM(g.middle_name), ' ', RTRIM(g.first_name)) as full_name, \n",
                "        g.date_of_birth, g.contact_number, sub.total_booking, sub.avg_duration\n",
                "FROM guest as g\n",
                "INNER JOIN (SELECT guest_booking_id, COUNT(booking_id) as total_booking,\n",
                "                    AVG(duration_stay) as avg_duration\n",
                "            FROM booking as b\n",
                "            GROUP BY guest_booking_id\n",
                "            HAVING COUNT(booking_id) > 3\n",
                "            OR AVG(duration_stay) > 3) as sub\n",
                "ON g.guest_id = sub.guest_booking_id;\n"
            ]
        },
        {
            "cell_type": "code",
            "execution_count": 4,
            "metadata": {
                "azdata_cell_guid": "50425905-ad48-40f5-a32b-1db054465ea8",
                "language": "sql"
            },
            "outputs": [
                {
                    "data": {
                        "text/html": [
                            "(12 rows affected)"
                        ]
                    },
                    "metadata": {},
                    "output_type": "display_data"
                },
                {
                    "data": {
                        "text/html": [
                            "Total execution time: 00:00:00.047"
                        ]
                    },
                    "metadata": {},
                    "output_type": "display_data"
                },
                {
                    "data": {
                        "application/vnd.dataresource+json": {
                            "data": [
                                {
                                    "0": "Hoàng Nguyệt Anh",
                                    "1": "0989212234",
                                    "2": "3"
                                },
                                {
                                    "0": "Quan Vân Trường",
                                    "1": "0898221777",
                                    "2": "3"
                                },
                                {
                                    "0": "Tư Mã Ý",
                                    "1": "0972822322",
                                    "2": "3"
                                },
                                {
                                    "0": "Lỗ Tử Kính",
                                    "1": "0923012678",
                                    "2": "3"
                                },
                                {
                                    "0": "Triệu Tử Long",
                                    "1": "0965233244",
                                    "2": "3"
                                },
                                {
                                    "0": "Lưu Huyền Đức",
                                    "1": "0905236555",
                                    "2": "2"
                                },
                                {
                                    "0": "Thái Vân Cơ",
                                    "1": "0332123332",
                                    "2": "2"
                                },
                                {
                                    "0": "Tôn Thượng Hương",
                                    "1": "0888765666",
                                    "2": "2"
                                },
                                {
                                    "0": "Tào Mạnh Đức",
                                    "1": "0789212345",
                                    "2": "2"
                                },
                                {
                                    "0": "Lã Phụng Tiên",
                                    "1": "0233299122",
                                    "2": "1"
                                },
                                {
                                    "0": "Tuân  Úc",
                                    "1": "0889870623",
                                    "2": "1"
                                },
                                {
                                    "0": "Chu Công Cẩn",
                                    "1": "0905656565",
                                    "2": "1"
                                }
                            ],
                            "schema": {
                                "fields": [
                                    {
                                        "name": "full_name"
                                    },
                                    {
                                        "name": "contact_number"
                                    },
                                    {
                                        "name": "room_count"
                                    }
                                ]
                            }
                        },
                        "text/html": [
                            "<table>\n",
                            "<tr><th>full_name</th><th>contact_number</th><th>room_count</th></tr>\n",
                            "<tr><td>Hoàng Nguyệt Anh</td><td>0989212234</td><td>3</td></tr>\n",
                            "<tr><td>Quan Vân Trường</td><td>0898221777</td><td>3</td></tr>\n",
                            "<tr><td>Tư Mã Ý</td><td>0972822322</td><td>3</td></tr>\n",
                            "<tr><td>Lỗ Tử Kính</td><td>0923012678</td><td>3</td></tr>\n",
                            "<tr><td>Triệu Tử Long</td><td>0965233244</td><td>3</td></tr>\n",
                            "<tr><td>Lưu Huyền Đức</td><td>0905236555</td><td>2</td></tr>\n",
                            "<tr><td>Thái Vân Cơ</td><td>0332123332</td><td>2</td></tr>\n",
                            "<tr><td>Tôn Thượng Hương</td><td>0888765666</td><td>2</td></tr>\n",
                            "<tr><td>Tào Mạnh Đức</td><td>0789212345</td><td>2</td></tr>\n",
                            "<tr><td>Lã Phụng Tiên</td><td>0233299122</td><td>1</td></tr>\n",
                            "<tr><td>Tuân  Úc</td><td>0889870623</td><td>1</td></tr>\n",
                            "<tr><td>Chu Công Cẩn</td><td>0905656565</td><td>1</td></tr>\n",
                            "</table>"
                        ]
                    },
                    "execution_count": 4,
                    "metadata": {},
                    "output_type": "execute_result"
                }
            ],
            "source": [
                "SELECT CONCAT(Rtrim(g.last_name), ' ', RTRIM(g.middle_name), ' ', RTRIM(g.first_name)) as full_name,\n",
                "         g.contact_number, sub.room_count\n",
                "FROM guest as g \n",
                "INNER JOIN (SELECT guest_booking_id, COUNT(room_booking_id) as room_count\n",
                "            FROM booking\n",
                "            GROUP BY guest_booking_id) as sub\n",
                "ON g.guest_id = sub.guest_booking_id\n",
                "ORDER BY room_count DESC ;\n"
            ]
        },
        {
            "attachments": {},
            "cell_type": "markdown",
            "metadata": {},
            "source": [
                "#### Pivot Query"
            ]
        },
        {
            "cell_type": "code",
            "execution_count": null,
            "metadata": {},
            "outputs": [
                {
                    "data": {
                        "text/html": [
                            "(12 rows affected)"
                        ]
                    },
                    "metadata": {},
                    "output_type": "display_data"
                },
                {
                    "data": {
                        "text/html": [
                            "Total execution time: 00:00:00.029"
                        ]
                    },
                    "metadata": {},
                    "output_type": "display_data"
                },
                {
                    "data": {
                        "application/vnd.dataresource+json": {
                            "data": [
                                {
                                    "0": "guest_01  ",
                                    "1": "0",
                                    "2": "0",
                                    "3": "2",
                                    "4": "0"
                                },
                                {
                                    "0": "guest_02  ",
                                    "1": "0",
                                    "2": "0",
                                    "3": "3",
                                    "4": "2"
                                },
                                {
                                    "0": "guest_03  ",
                                    "1": "2",
                                    "2": "0",
                                    "3": "0",
                                    "4": "0"
                                },
                                {
                                    "0": "guest_04  ",
                                    "1": "3",
                                    "2": "0",
                                    "3": "0",
                                    "4": "2"
                                },
                                {
                                    "0": "guest_05  ",
                                    "1": "2",
                                    "2": "3",
                                    "3": "0",
                                    "4": "0"
                                },
                                {
                                    "0": "guest_06  ",
                                    "1": "0",
                                    "2": "0",
                                    "3": "1",
                                    "4": "2"
                                },
                                {
                                    "0": "guest_07  ",
                                    "1": "0",
                                    "2": "0",
                                    "3": "0",
                                    "4": "4"
                                },
                                {
                                    "0": "guest_08  ",
                                    "1": "0",
                                    "2": "4",
                                    "3": "0",
                                    "4": "0"
                                },
                                {
                                    "0": "guest_09  ",
                                    "1": "2",
                                    "2": "0",
                                    "3": "0",
                                    "4": "2"
                                },
                                {
                                    "0": "guest_10  ",
                                    "1": "0",
                                    "2": "2",
                                    "3": "0",
                                    "4": "0"
                                },
                                {
                                    "0": "guest_11  ",
                                    "1": "0",
                                    "2": "0",
                                    "3": "5",
                                    "4": "3"
                                },
                                {
                                    "0": "guest_12  ",
                                    "1": "4",
                                    "2": "2",
                                    "3": "0",
                                    "4": "0"
                                }
                            ],
                            "schema": {
                                "fields": [
                                    {
                                        "name": "guest_id"
                                    },
                                    {
                                        "name": "Mường Thanh Restaurant"
                                    },
                                    {
                                        "name": "Minh Toàn Restaurant"
                                    },
                                    {
                                        "name": "Agoda Restaurant"
                                    },
                                    {
                                        "name": "LandMark Restaurant"
                                    }
                                ]
                            }
                        },
                        "text/html": [
                            "<table><tr><th>guest_id</th><th>Mường Thanh Restaurant</th><th>Minh Toàn Restaurant</th><th>Agoda Restaurant</th><th>LandMark Restaurant</th></tr><tr><td>guest_01  </td><td>0</td><td>0</td><td>2</td><td>0</td></tr><tr><td>guest_02  </td><td>0</td><td>0</td><td>3</td><td>2</td></tr><tr><td>guest_03  </td><td>2</td><td>0</td><td>0</td><td>0</td></tr><tr><td>guest_04  </td><td>3</td><td>0</td><td>0</td><td>2</td></tr><tr><td>guest_05  </td><td>2</td><td>3</td><td>0</td><td>0</td></tr><tr><td>guest_06  </td><td>0</td><td>0</td><td>1</td><td>2</td></tr><tr><td>guest_07  </td><td>0</td><td>0</td><td>0</td><td>4</td></tr><tr><td>guest_08  </td><td>0</td><td>4</td><td>0</td><td>0</td></tr><tr><td>guest_09  </td><td>2</td><td>0</td><td>0</td><td>2</td></tr><tr><td>guest_10  </td><td>0</td><td>2</td><td>0</td><td>0</td></tr><tr><td>guest_11  </td><td>0</td><td>0</td><td>5</td><td>3</td></tr><tr><td>guest_12  </td><td>4</td><td>2</td><td>0</td><td>0</td></tr></table>"
                        ]
                    },
                    "metadata": {},
                    "output_type": "display_data"
                }
            ],
            "source": [
                "SELECT sub.guest_id, \n",
                "        ISNULL([Mường Thanh Restaurant],0) as N'Mường Thanh Restaurant', \n",
                "        ISNULL([Minh Toàn Restaurant],0) as N'Minh Toàn Restaurant', \n",
                "        ISNULL([Agoda Restaurant],0) as N'Agoda Restaurant', \n",
                "        ISNULL([Land Mark Restaurant],0) as N'LandMark Restaurant'\n",
                "FROM (SELECT b.guest_booking_id as guest_id ,\n",
                "             r.name as restaurant, meal_id\n",
                "        FROM meal as m\n",
                "        INNER JOIN menu as mn\n",
                "        ON m.menu_id  = mn.menu_id\n",
                "        INNER JOIN booking as b \n",
                "        ON m.booking_id = b.booking_id\n",
                "        INNER JOIN restaurant as r \n",
                "        ON r.res_id = mn.res_id\n",
                "        ) as sub\n",
                "Pivot \n",
                "(\n",
                "    COUNT(meal_id) \n",
                "    for restaurant IN([Mường Thanh Restaurant], [Minh Toàn Restaurant], [Agoda Restaurant], \n",
                "                            [Land Mark Restaurant]) \n",
                ") as sub;"
            ]
        },
        {
            "cell_type": "code",
            "execution_count": null,
            "metadata": {},
            "outputs": [
                {
                    "data": {
                        "text/html": [
                            "(12 rows affected)"
                        ]
                    },
                    "metadata": {},
                    "output_type": "display_data"
                },
                {
                    "data": {
                        "text/html": [
                            "Total execution time: 00:00:00.016"
                        ]
                    },
                    "metadata": {},
                    "output_type": "display_data"
                },
                {
                    "data": {
                        "application/vnd.dataresource+json": {
                            "data": [
                                {
                                    "0": "guest_01  ",
                                    "1": "0",
                                    "2": "0",
                                    "3": "7",
                                    "4": "0"
                                },
                                {
                                    "0": "guest_02  ",
                                    "1": "0",
                                    "2": "0",
                                    "3": "2",
                                    "4": "9"
                                },
                                {
                                    "0": "guest_03  ",
                                    "1": "5",
                                    "2": "0",
                                    "3": "0",
                                    "4": "0"
                                },
                                {
                                    "0": "guest_04  ",
                                    "1": "5",
                                    "2": "0",
                                    "3": "0",
                                    "4": "3"
                                },
                                {
                                    "0": "guest_05  ",
                                    "1": "3",
                                    "2": "6",
                                    "3": "0",
                                    "4": "0"
                                },
                                {
                                    "0": "guest_06  ",
                                    "1": "0",
                                    "2": "0",
                                    "3": "5",
                                    "4": "3"
                                },
                                {
                                    "0": "guest_07  ",
                                    "1": "0",
                                    "2": "0",
                                    "3": "0",
                                    "4": "3"
                                },
                                {
                                    "0": "guest_08  ",
                                    "1": "0",
                                    "2": "5",
                                    "3": "0",
                                    "4": "0"
                                },
                                {
                                    "0": "guest_09  ",
                                    "1": "3",
                                    "2": "0",
                                    "3": "0",
                                    "4": "4"
                                },
                                {
                                    "0": "guest_10  ",
                                    "1": "0",
                                    "2": "5",
                                    "3": "0",
                                    "4": "0"
                                },
                                {
                                    "0": "guest_11  ",
                                    "1": "0",
                                    "2": "0",
                                    "3": "6",
                                    "4": "3"
                                },
                                {
                                    "0": "guest_12  ",
                                    "1": "2",
                                    "2": "5",
                                    "3": "0",
                                    "4": "0"
                                }
                            ],
                            "schema": {
                                "fields": [
                                    {
                                        "name": "guest_id"
                                    },
                                    {
                                        "name": "Mường Thanh Luxury"
                                    },
                                    {
                                        "name": "Minh Toàn Galaxy"
                                    },
                                    {
                                        "name": "Agoda Hotel"
                                    },
                                    {
                                        "name": "LandMark 81"
                                    }
                                ]
                            }
                        },
                        "text/html": [
                            "<table><tr><th>guest_id</th><th>Mường Thanh Luxury</th><th>Minh Toàn Galaxy</th><th>Agoda Hotel</th><th>LandMark 81</th></tr><tr><td>guest_01  </td><td>0</td><td>0</td><td>7</td><td>0</td></tr><tr><td>guest_02  </td><td>0</td><td>0</td><td>2</td><td>9</td></tr><tr><td>guest_03  </td><td>5</td><td>0</td><td>0</td><td>0</td></tr><tr><td>guest_04  </td><td>5</td><td>0</td><td>0</td><td>3</td></tr><tr><td>guest_05  </td><td>3</td><td>6</td><td>0</td><td>0</td></tr><tr><td>guest_06  </td><td>0</td><td>0</td><td>5</td><td>3</td></tr><tr><td>guest_07  </td><td>0</td><td>0</td><td>0</td><td>3</td></tr><tr><td>guest_08  </td><td>0</td><td>5</td><td>0</td><td>0</td></tr><tr><td>guest_09  </td><td>3</td><td>0</td><td>0</td><td>4</td></tr><tr><td>guest_10  </td><td>0</td><td>5</td><td>0</td><td>0</td></tr><tr><td>guest_11  </td><td>0</td><td>0</td><td>6</td><td>3</td></tr><tr><td>guest_12  </td><td>2</td><td>5</td><td>0</td><td>0</td></tr></table>"
                        ]
                    },
                    "metadata": {},
                    "output_type": "display_data"
                }
            ],
            "source": [
                "SELECT guest_id,\n",
                "        ISNULL([Mường Thanh Luxury],0) as N'Mường Thanh Luxury', \n",
                "        ISNULL([Minh Toàn Galaxy],0) as N'Minh Toàn Galaxy', \n",
                "        ISNULL([Agoda Hotel],0) as N'Agoda Hotel', \n",
                "        ISNULL([LandMark 81],0) as N'LandMark 81'\n",
                "FROM (SELECT guest_booking_id as guest_id, h.name as hotel_name, duration_stay\n",
                "        FROM booking as b \n",
                "        INNER JOIN hotel as h \n",
                "        ON h.hotel_id = b.hotel_booking_id) as sub\n",
                "PIVOT (\n",
                "    AVG(duration_stay)\n",
                "    FOR hotel_name in ([Mường Thanh Luxury],[Minh Toàn Galaxy],[Agoda Hotel],[LandMark 81])\n",
                ") as avg_stay;"
            ]
        },
        {
            "cell_type": "code",
            "execution_count": null,
            "metadata": {},
            "outputs": [
                {
                    "data": {
                        "text/html": [
                            "(12 rows affected)"
                        ]
                    },
                    "metadata": {},
                    "output_type": "display_data"
                },
                {
                    "data": {
                        "text/html": [
                            "Total execution time: 00:00:00.037"
                        ]
                    },
                    "metadata": {},
                    "output_type": "display_data"
                },
                {
                    "data": {
                        "application/vnd.dataresource+json": {
                            "data": [
                                {
                                    "0": "guest_01  ",
                                    "1": "0",
                                    "2": "0",
                                    "3": "1",
                                    "4": "0"
                                },
                                {
                                    "0": "guest_02  ",
                                    "1": "0",
                                    "2": "0",
                                    "3": "1",
                                    "4": "1"
                                },
                                {
                                    "0": "guest_03  ",
                                    "1": "1",
                                    "2": "0",
                                    "3": "0",
                                    "4": "0"
                                },
                                {
                                    "0": "guest_04  ",
                                    "1": "2",
                                    "2": "0",
                                    "3": "0",
                                    "4": "1"
                                },
                                {
                                    "0": "guest_05  ",
                                    "1": "1",
                                    "2": "2",
                                    "3": "0",
                                    "4": "0"
                                },
                                {
                                    "0": "guest_06  ",
                                    "1": "0",
                                    "2": "0",
                                    "3": "1",
                                    "4": "1"
                                },
                                {
                                    "0": "guest_07  ",
                                    "1": "0",
                                    "2": "0",
                                    "3": "0",
                                    "4": "2"
                                },
                                {
                                    "0": "guest_08  ",
                                    "1": "0",
                                    "2": "2",
                                    "3": "0",
                                    "4": "0"
                                },
                                {
                                    "0": "guest_09  ",
                                    "1": "2",
                                    "2": "0",
                                    "3": "0",
                                    "4": "1"
                                },
                                {
                                    "0": "guest_10  ",
                                    "1": "0",
                                    "2": "1",
                                    "3": "0",
                                    "4": "0"
                                },
                                {
                                    "0": "guest_11  ",
                                    "1": "0",
                                    "2": "0",
                                    "3": "2",
                                    "4": "1"
                                },
                                {
                                    "0": "guest_12  ",
                                    "1": "2",
                                    "2": "1",
                                    "3": "0",
                                    "4": "0"
                                }
                            ],
                            "schema": {
                                "fields": [
                                    {
                                        "name": "guest_id"
                                    },
                                    {
                                        "name": "Mường Thanh Luxury"
                                    },
                                    {
                                        "name": "Minh Toàn Galaxy"
                                    },
                                    {
                                        "name": "Agoda Hotel"
                                    },
                                    {
                                        "name": "LandMark 81"
                                    }
                                ]
                            }
                        },
                        "text/html": [
                            "<table><tr><th>guest_id</th><th>Mường Thanh Luxury</th><th>Minh Toàn Galaxy</th><th>Agoda Hotel</th><th>LandMark 81</th></tr><tr><td>guest_01  </td><td>0</td><td>0</td><td>1</td><td>0</td></tr><tr><td>guest_02  </td><td>0</td><td>0</td><td>1</td><td>1</td></tr><tr><td>guest_03  </td><td>1</td><td>0</td><td>0</td><td>0</td></tr><tr><td>guest_04  </td><td>2</td><td>0</td><td>0</td><td>1</td></tr><tr><td>guest_05  </td><td>1</td><td>2</td><td>0</td><td>0</td></tr><tr><td>guest_06  </td><td>0</td><td>0</td><td>1</td><td>1</td></tr><tr><td>guest_07  </td><td>0</td><td>0</td><td>0</td><td>2</td></tr><tr><td>guest_08  </td><td>0</td><td>2</td><td>0</td><td>0</td></tr><tr><td>guest_09  </td><td>2</td><td>0</td><td>0</td><td>1</td></tr><tr><td>guest_10  </td><td>0</td><td>1</td><td>0</td><td>0</td></tr><tr><td>guest_11  </td><td>0</td><td>0</td><td>2</td><td>1</td></tr><tr><td>guest_12  </td><td>2</td><td>1</td><td>0</td><td>0</td></tr></table>"
                        ]
                    },
                    "metadata": {},
                    "output_type": "display_data"
                }
            ],
            "source": [
                "SELECT guest_id,\n",
                "        ISNULL([Mường Thanh Luxury],0) as N'Mường Thanh Luxury', \n",
                "        ISNULL([Minh Toàn Galaxy],0) as N'Minh Toàn Galaxy', \n",
                "        ISNULL([Agoda Hotel],0) as N'Agoda Hotel', \n",
                "        ISNULL([LandMark 81],0) as N'LandMark 81'\n",
                "FROM (SELECT guest_booking_id as guest_id, h.name as hotel_name, booking_id\n",
                "        FROM booking as b \n",
                "        INNER JOIN hotel as h \n",
                "        ON h.hotel_id = b.hotel_booking_id) as sub\n",
                "PIVOT (\n",
                "    COUNT(booking_id)\n",
                "    FOR hotel_name in ([Mường Thanh Luxury],[Minh Toàn Galaxy],[Agoda Hotel],[LandMark 81])\n",
                ") as avg_stay;"
            ]
        }
    ],
    "metadata": {
        "kernelspec": {
            "display_name": "SQL",
            "language": "sql",
            "name": "SQL"
        },
        "language_info": {
            "name": "sql",
            "version": ""
        }
    },
    "nbformat": 4,
    "nbformat_minor": 2
}
