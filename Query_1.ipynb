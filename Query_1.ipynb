{
    "metadata": {
        "kernelspec": {
            "name": "SQL",
            "display_name": "SQL",
            "language": "sql"
        },
        "language_info": {
            "name": "sql",
            "version": ""
        }
    },
    "nbformat_minor": 2,
    "nbformat": 4,
    "cells": [
        {
            "cell_type": "code",
            "source": [
                "use Hotel_Restaurant_Management;"
            ],
            "metadata": {
                "azdata_cell_guid": "dd0c63fc-c9e5-4e46-98d9-b6823e4b2edf",
                "language": "sql"
            },
            "outputs": [
                {
                    "output_type": "display_data",
                    "data": {
                        "text/html": "Commands completed successfully."
                    },
                    "metadata": {}
                },
                {
                    "output_type": "display_data",
                    "data": {
                        "text/html": "Total execution time: 00:00:00.014"
                    },
                    "metadata": {}
                }
            ],
            "execution_count": 2
        },
        {
            "cell_type": "code",
            "source": [
                "SELECT CONCAT(Rtrim(last_name), ' ', RTRIM(middle_name), ' ', RTRIM(first_name)) as full_name,\n",
                "        date_ob, sex, contact_num\n",
                "FROM employee "
            ],
            "metadata": {
                "language": "sql",
                "azdata_cell_guid": "23774195-2ad9-4a4b-94dd-50b05051a110"
            },
            "outputs": [
                {
                    "output_type": "display_data",
                    "data": {
                        "text/html": "(17 rows affected)"
                    },
                    "metadata": {}
                },
                {
                    "output_type": "display_data",
                    "data": {
                        "text/html": "Total execution time: 00:00:00.018"
                    },
                    "metadata": {}
                },
                {
                    "output_type": "execute_result",
                    "execution_count": 5,
                    "data": {
                        "application/vnd.dataresource+json": {
                            "schema": {
                                "fields": [
                                    {
                                        "name": "full_name"
                                    },
                                    {
                                        "name": "date_ob"
                                    },
                                    {
                                        "name": "sex"
                                    },
                                    {
                                        "name": "contact_num"
                                    }
                                ]
                            },
                            "data": [
                                {
                                    "0": "Dương  Quá",
                                    "1": "1976-10-10",
                                    "2": "Nam",
                                    "3": "0902789789"
                                },
                                {
                                    "0": "Độc Cô Cầu Bại",
                                    "1": "1986-12-09",
                                    "2": "Nam",
                                    "3": "0923980467"
                                },
                                {
                                    "0": "Quách  Tương",
                                    "1": "1986-06-21",
                                    "2": "Nữ",
                                    "3": "0898099777"
                                },
                                {
                                    "0": "Quách  Tĩnh",
                                    "1": "1981-02-04",
                                    "2": "Nam",
                                    "3": "0898219717"
                                },
                                {
                                    "0": "Hồng Thất Công",
                                    "1": "1978-12-19",
                                    "2": "Nam",
                                    "3": "0998900122"
                                },
                                {
                                    "0": "Võ  Tòng",
                                    "1": "1970-08-12",
                                    "2": "Nam",
                                    "3": "0676762822"
                                },
                                {
                                    "0": "Lý Mạc Sầu",
                                    "1": "1969-12-12",
                                    "2": "Nữ",
                                    "3": "0998211211"
                                },
                                {
                                    "0": "Tào Tử Hiếu",
                                    "1": "1969-01-18",
                                    "2": "Nam",
                                    "3": "0992811211"
                                },
                                {
                                    "0": "Lâm  Xung",
                                    "1": "1999-10-01",
                                    "2": "Nam",
                                    "3": "0998212123"
                                },
                                {
                                    "0": "Lý  Quỳ",
                                    "1": "1967-11-18",
                                    "2": "Nam",
                                    "3": "0912786998"
                                },
                                {
                                    "0": "Tiểu Long Nữ",
                                    "1": "1986-09-29",
                                    "2": "Nữ",
                                    "3": "0981123213"
                                },
                                {
                                    "0": "Trương Văn Viễn",
                                    "1": "1977-02-22",
                                    "2": "Nam",
                                    "3": "0898210222"
                                },
                                {
                                    "0": "Tôn Hành Giả",
                                    "1": "1986-01-01",
                                    "2": "Nam",
                                    "3": "0908098098"
                                },
                                {
                                    "0": "Trần Huyền Trang",
                                    "1": "1986-01-11",
                                    "2": "Nam",
                                    "3": "0908998998"
                                },
                                {
                                    "0": "Trư Ngộ Năng",
                                    "1": "1986-11-01",
                                    "2": "Nam",
                                    "3": "0990898921"
                                },
                                {
                                    "0": "Sa Ngộ Tĩnh",
                                    "1": "1986-12-10",
                                    "2": "Nam",
                                    "3": "0987872812"
                                },
                                {
                                    "0": "Tôn Văn Đài",
                                    "1": "1988-10-01",
                                    "2": "Nam",
                                    "3": "0922902230"
                                }
                            ]
                        },
                        "text/html": "<table><tr><th>full_name</th><th>date_ob</th><th>sex</th><th>contact_num</th></tr><tr><td>Dương  Quá</td><td>1976-10-10</td><td>Nam</td><td>0902789789</td></tr><tr><td>Độc Cô Cầu Bại</td><td>1986-12-09</td><td>Nam</td><td>0923980467</td></tr><tr><td>Quách  Tương</td><td>1986-06-21</td><td>Nữ</td><td>0898099777</td></tr><tr><td>Quách  Tĩnh</td><td>1981-02-04</td><td>Nam</td><td>0898219717</td></tr><tr><td>Hồng Thất Công</td><td>1978-12-19</td><td>Nam</td><td>0998900122</td></tr><tr><td>Võ  Tòng</td><td>1970-08-12</td><td>Nam</td><td>0676762822</td></tr><tr><td>Lý Mạc Sầu</td><td>1969-12-12</td><td>Nữ</td><td>0998211211</td></tr><tr><td>Tào Tử Hiếu</td><td>1969-01-18</td><td>Nam</td><td>0992811211</td></tr><tr><td>Lâm  Xung</td><td>1999-10-01</td><td>Nam</td><td>0998212123</td></tr><tr><td>Lý  Quỳ</td><td>1967-11-18</td><td>Nam</td><td>0912786998</td></tr><tr><td>Tiểu Long Nữ</td><td>1986-09-29</td><td>Nữ</td><td>0981123213</td></tr><tr><td>Trương Văn Viễn</td><td>1977-02-22</td><td>Nam</td><td>0898210222</td></tr><tr><td>Tôn Hành Giả</td><td>1986-01-01</td><td>Nam</td><td>0908098098</td></tr><tr><td>Trần Huyền Trang</td><td>1986-01-11</td><td>Nam</td><td>0908998998</td></tr><tr><td>Trư Ngộ Năng</td><td>1986-11-01</td><td>Nam</td><td>0990898921</td></tr><tr><td>Sa Ngộ Tĩnh</td><td>1986-12-10</td><td>Nam</td><td>0987872812</td></tr><tr><td>Tôn Văn Đài</td><td>1988-10-01</td><td>Nam</td><td>0922902230</td></tr></table>"
                    },
                    "metadata": {}
                }
            ],
            "execution_count": 5
        },
        {
            "cell_type": "code",
            "source": [
                "SELECT hotel_id, service_name, price\n",
                "FROM hotel_service"
            ],
            "metadata": {
                "language": "sql",
                "azdata_cell_guid": "9a8a6eed-59f7-495d-89a2-d7239161a5cb"
            },
            "outputs": [
                {
                    "output_type": "display_data",
                    "data": {
                        "text/html": "(9 rows affected)"
                    },
                    "metadata": {}
                },
                {
                    "output_type": "display_data",
                    "data": {
                        "text/html": "Total execution time: 00:00:00.076"
                    },
                    "metadata": {}
                },
                {
                    "output_type": "execute_result",
                    "execution_count": 7,
                    "data": {
                        "application/vnd.dataresource+json": {
                            "schema": {
                                "fields": [
                                    {
                                        "name": "hotel_id"
                                    },
                                    {
                                        "name": "service_name"
                                    },
                                    {
                                        "name": "price"
                                    }
                                ]
                            },
                            "data": [
                                {
                                    "0": "Hotel03             ",
                                    "1": "Hồ bơi",
                                    "2": "150000"
                                },
                                {
                                    "0": "Hotel03             ",
                                    "1": "Phòng Dịch Vụ 24h",
                                    "2": "600000"
                                },
                                {
                                    "0": "Hotel04             ",
                                    "1": "Hồ bơi",
                                    "2": "500000"
                                },
                                {
                                    "0": "Hotel04             ",
                                    "1": "Phòng Giải Trí",
                                    "2": "450000"
                                },
                                {
                                    "0": "Hotel02             ",
                                    "1": "Tổ chức tiệc",
                                    "2": "1000000"
                                },
                                {
                                    "0": "Hotel02             ",
                                    "1": "Gym",
                                    "2": "100000"
                                },
                                {
                                    "0": "Hotel01             ",
                                    "1": "Hồ bơi",
                                    "2": "500000"
                                },
                                {
                                    "0": "Hotel01             ",
                                    "1": "Giặt Ủi",
                                    "2": "100000"
                                },
                                {
                                    "0": "Hotel01             ",
                                    "1": "Đổi tiền",
                                    "2": "50000"
                                }
                            ]
                        },
                        "text/html": "<table><tr><th>hotel_id</th><th>service_name</th><th>price</th></tr><tr><td>Hotel03             </td><td>Hồ bơi</td><td>150000</td></tr><tr><td>Hotel03             </td><td>Phòng Dịch Vụ 24h</td><td>600000</td></tr><tr><td>Hotel04             </td><td>Hồ bơi</td><td>500000</td></tr><tr><td>Hotel04             </td><td>Phòng Giải Trí</td><td>450000</td></tr><tr><td>Hotel02             </td><td>Tổ chức tiệc</td><td>1000000</td></tr><tr><td>Hotel02             </td><td>Gym</td><td>100000</td></tr><tr><td>Hotel01             </td><td>Hồ bơi</td><td>500000</td></tr><tr><td>Hotel01             </td><td>Giặt Ủi</td><td>100000</td></tr><tr><td>Hotel01             </td><td>Đổi tiền</td><td>50000</td></tr></table>"
                    },
                    "metadata": {}
                }
            ],
            "execution_count": 7
        },
        {
            "cell_type": "code",
            "source": [
                "SELECT CONCAT(Rtrim(last_name), ' ', RTRIM(middle_name), ' ', RTRIM(first_name)) as full_name,\n",
                "        sex, YEAR(GETDATE()) - YEAR(date_of_birth) as age, contact_number\n",
                "FROM guest"
            ],
            "metadata": {
                "language": "sql",
                "azdata_cell_guid": "ea09352c-4bce-405f-ba2a-2b059f03e8b5",
                "tags": []
            },
            "outputs": [
                {
                    "output_type": "display_data",
                    "data": {
                        "text/html": "(12 rows affected)"
                    },
                    "metadata": {}
                },
                {
                    "output_type": "display_data",
                    "data": {
                        "text/html": "Total execution time: 00:00:00.017"
                    },
                    "metadata": {}
                },
                {
                    "output_type": "execute_result",
                    "execution_count": 8,
                    "data": {
                        "application/vnd.dataresource+json": {
                            "schema": {
                                "fields": [
                                    {
                                        "name": "full_name"
                                    },
                                    {
                                        "name": "sex"
                                    },
                                    {
                                        "name": "age"
                                    },
                                    {
                                        "name": "contact_number"
                                    }
                                ]
                            },
                            "data": [
                                {
                                    "0": "Chu Công Cẩn",
                                    "1": "Nam",
                                    "2": "55",
                                    "3": "0905656565"
                                },
                                {
                                    "0": "Lưu Huyền Đức",
                                    "1": "Nam",
                                    "2": "72",
                                    "3": "0905236555"
                                },
                                {
                                    "0": "Lã Phụng Tiên",
                                    "1": "Nam",
                                    "2": "60",
                                    "3": "0233299122"
                                },
                                {
                                    "0": "Hoàng Nguyệt Anh",
                                    "1": "Nữ",
                                    "2": "55",
                                    "3": "0989212234"
                                },
                                {
                                    "0": "Quan Vân Trường",
                                    "1": "Nam",
                                    "2": "73",
                                    "3": "0898221777"
                                },
                                {
                                    "0": "Thái Vân Cơ",
                                    "1": "Nữ",
                                    "2": "63",
                                    "3": "0332123332"
                                },
                                {
                                    "0": "Tôn Thượng Hương",
                                    "1": "Nữ",
                                    "2": "66",
                                    "3": "0888765666"
                                },
                                {
                                    "0": "Tào Mạnh Đức",
                                    "1": "Nam",
                                    "2": "68",
                                    "3": "0789212345"
                                },
                                {
                                    "0": "Tư Mã Ý",
                                    "1": "Nam",
                                    "2": "72",
                                    "3": "0972822322"
                                },
                                {
                                    "0": "Tuân  Úc",
                                    "1": "Nam",
                                    "2": "77",
                                    "3": "0889870623"
                                },
                                {
                                    "0": "Lỗ Tử Kính",
                                    "1": "Nam",
                                    "2": "63",
                                    "3": "0923012678"
                                },
                                {
                                    "0": "Triệu Tử Long",
                                    "1": "Nam",
                                    "2": "77",
                                    "3": "0965233244"
                                }
                            ]
                        },
                        "text/html": "<table><tr><th>full_name</th><th>sex</th><th>age</th><th>contact_number</th></tr><tr><td>Chu Công Cẩn</td><td>Nam</td><td>55</td><td>0905656565</td></tr><tr><td>Lưu Huyền Đức</td><td>Nam</td><td>72</td><td>0905236555</td></tr><tr><td>Lã Phụng Tiên</td><td>Nam</td><td>60</td><td>0233299122</td></tr><tr><td>Hoàng Nguyệt Anh</td><td>Nữ</td><td>55</td><td>0989212234</td></tr><tr><td>Quan Vân Trường</td><td>Nam</td><td>73</td><td>0898221777</td></tr><tr><td>Thái Vân Cơ</td><td>Nữ</td><td>63</td><td>0332123332</td></tr><tr><td>Tôn Thượng Hương</td><td>Nữ</td><td>66</td><td>0888765666</td></tr><tr><td>Tào Mạnh Đức</td><td>Nam</td><td>68</td><td>0789212345</td></tr><tr><td>Tư Mã Ý</td><td>Nam</td><td>72</td><td>0972822322</td></tr><tr><td>Tuân  Úc</td><td>Nam</td><td>77</td><td>0889870623</td></tr><tr><td>Lỗ Tử Kính</td><td>Nam</td><td>63</td><td>0923012678</td></tr><tr><td>Triệu Tử Long</td><td>Nam</td><td>77</td><td>0965233244</td></tr></table>"
                    },
                    "metadata": {}
                }
            ],
            "execution_count": 8
        },
        {
            "cell_type": "code",
            "source": [
                "SELECT street + ', ' + ward + ', ' + district + ', ' + city \n",
                "FROM address"
            ],
            "metadata": {
                "language": "sql",
                "azdata_cell_guid": "67412a1d-1c6e-4408-9672-79cd220ca65c"
            },
            "outputs": [
                {
                    "output_type": "display_data",
                    "data": {
                        "text/html": "(4 rows affected)"
                    },
                    "metadata": {}
                },
                {
                    "output_type": "display_data",
                    "data": {
                        "text/html": "Total execution time: 00:00:00.022"
                    },
                    "metadata": {}
                },
                {
                    "output_type": "execute_result",
                    "execution_count": 9,
                    "data": {
                        "application/vnd.dataresource+json": {
                            "schema": {
                                "fields": [
                                    {
                                        "name": "(No column name)"
                                    }
                                ]
                            },
                            "data": [
                                {
                                    "0": "25 Lý Tự Trọng, Phường 15, Quận 10, TP Hồ Chí Minh"
                                },
                                {
                                    "0": "195 Trần Cao Vân, Phường Tân Phú, Quận 7, TP Hồ Chí Minh"
                                },
                                {
                                    "0": "87 Đường 3/2, Phường Bến Nghé, Quận 1, TP Hồ Chí Minh"
                                },
                                {
                                    "0": "67 Cách Mạng Tháng 8, Phường 8, Quận 10, TP Hồ Chí Minh"
                                }
                            ]
                        },
                        "text/html": "<table><tr><th>(No column name)</th></tr><tr><td>25 Lý Tự Trọng, Phường 15, Quận 10, TP Hồ Chí Minh</td></tr><tr><td>195 Trần Cao Vân, Phường Tân Phú, Quận 7, TP Hồ Chí Minh</td></tr><tr><td>87 Đường 3/2, Phường Bến Nghé, Quận 1, TP Hồ Chí Minh</td></tr><tr><td>67 Cách Mạng Tháng 8, Phường 8, Quận 10, TP Hồ Chí Minh</td></tr></table>"
                    },
                    "metadata": {}
                }
            ],
            "execution_count": 9
        },
        {
            "cell_type": "code",
            "source": [
                "SELECT h.name, CONCAT(RTRIM(street),', ', RTRIM(ward),', ', RTRIM(district),', ',RTRIM(city)) as address\n",
                "FROM hotel as h \n",
                "INNER JOIN address as a \n",
                "ON h.address_hotel_id = a.address_id"
            ],
            "metadata": {
                "language": "sql",
                "azdata_cell_guid": "9c404e0e-b50c-4fcc-a15f-8a42dd156416",
                "tags": []
            },
            "outputs": [
                {
                    "output_type": "display_data",
                    "data": {
                        "text/html": "(4 rows affected)"
                    },
                    "metadata": {}
                },
                {
                    "output_type": "display_data",
                    "data": {
                        "text/html": "Total execution time: 00:00:00.035"
                    },
                    "metadata": {}
                },
                {
                    "output_type": "execute_result",
                    "execution_count": 6,
                    "data": {
                        "application/vnd.dataresource+json": {
                            "schema": {
                                "fields": [
                                    {
                                        "name": "name"
                                    },
                                    {
                                        "name": "address"
                                    }
                                ]
                            },
                            "data": [
                                {
                                    "0": "Mường Thanh Luxury",
                                    "1": "67 Cách Mạng Tháng 8, Phường 8, Quận 10, TP Hồ Chí Minh"
                                },
                                {
                                    "0": "Minh Toàn Galaxy",
                                    "1": "87 Đường 3/2, Phường Bến Nghé, Quận 1, TP Hồ Chí Minh"
                                },
                                {
                                    "0": "Agoda Hotel",
                                    "1": "25 Lý Tự Trọng, Phường 15, Quận 10, TP Hồ Chí Minh"
                                },
                                {
                                    "0": "LandMark 81",
                                    "1": "195 Trần Cao Vân, Phường Tân Phú, Quận 7, TP Hồ Chí Minh"
                                }
                            ]
                        },
                        "text/html": "<table><tr><th>name</th><th>address</th></tr><tr><td>Mường Thanh Luxury</td><td>67 Cách Mạng Tháng 8, Phường 8, Quận 10, TP Hồ Chí Minh</td></tr><tr><td>Minh Toàn Galaxy</td><td>87 Đường 3/2, Phường Bến Nghé, Quận 1, TP Hồ Chí Minh</td></tr><tr><td>Agoda Hotel</td><td>25 Lý Tự Trọng, Phường 15, Quận 10, TP Hồ Chí Minh</td></tr><tr><td>LandMark 81</td><td>195 Trần Cao Vân, Phường Tân Phú, Quận 7, TP Hồ Chí Minh</td></tr></table>"
                    },
                    "metadata": {}
                }
            ],
            "execution_count": 6
        },
        {
            "cell_type": "code",
            "source": [
                "SELECT CONCAT(RTRIM(e.last_name),' ',RTRIM(middle_name),' ', RTRIM(first_name)) as full_name,\n",
                "        date_ob, sex, h.name as hotel, d.name_depart as department\n",
                "FROM employee as e\n",
                "INNER JOIN hotel as h \n",
                "ON e.emp_hotel_id = h.hotel_id \n",
                "INNER JOIN department as d \n",
                "ON e.emp_department_id = d.department_id"
            ],
            "metadata": {
                "language": "sql",
                "azdata_cell_guid": "77b62e6c-b447-4462-9ed8-29e4c44ab978"
            },
            "outputs": [
                {
                    "output_type": "display_data",
                    "data": {
                        "text/html": "(17 rows affected)"
                    },
                    "metadata": {}
                },
                {
                    "output_type": "display_data",
                    "data": {
                        "text/html": "Total execution time: 00:00:00.055"
                    },
                    "metadata": {}
                },
                {
                    "output_type": "execute_result",
                    "execution_count": 10,
                    "data": {
                        "application/vnd.dataresource+json": {
                            "schema": {
                                "fields": [
                                    {
                                        "name": "full_name"
                                    },
                                    {
                                        "name": "date_ob"
                                    },
                                    {
                                        "name": "sex"
                                    },
                                    {
                                        "name": "hotel"
                                    },
                                    {
                                        "name": "department"
                                    }
                                ]
                            },
                            "data": [
                                {
                                    "0": "Dương  Quá",
                                    "1": "1976-10-10",
                                    "2": "Nam",
                                    "3": "Agoda Hotel",
                                    "4": "Ban Tiếp Khách"
                                },
                                {
                                    "0": "Độc Cô Cầu Bại",
                                    "1": "1986-12-09",
                                    "2": "Nam",
                                    "3": "Agoda Hotel",
                                    "4": "Ban Đón Khách"
                                },
                                {
                                    "0": "Quách  Tương",
                                    "1": "1986-06-21",
                                    "2": "Nữ",
                                    "3": "Agoda Hotel",
                                    "4": "Ban Vệ Sinh"
                                },
                                {
                                    "0": "Quách  Tĩnh",
                                    "1": "1981-02-04",
                                    "2": "Nam",
                                    "3": "Agoda Hotel",
                                    "4": "Ban Quản Lý"
                                },
                                {
                                    "0": "Hồng Thất Công",
                                    "1": "1978-12-19",
                                    "2": "Nam",
                                    "3": "LandMark 81",
                                    "4": "Quầy Tiếp Tân"
                                },
                                {
                                    "0": "Võ  Tòng",
                                    "1": "1970-08-12",
                                    "2": "Nam",
                                    "3": "LandMark 81",
                                    "4": "Ban Đón Khách"
                                },
                                {
                                    "0": "Lý Mạc Sầu",
                                    "1": "1969-12-12",
                                    "2": "Nữ",
                                    "3": "LandMark 81",
                                    "4": "Ban Quản Lý"
                                },
                                {
                                    "0": "Tào Tử Hiếu",
                                    "1": "1969-01-18",
                                    "2": "Nam",
                                    "3": "LandMark 81",
                                    "4": "Ban Vệ Sinh"
                                },
                                {
                                    "0": "Lâm  Xung",
                                    "1": "1999-10-01",
                                    "2": "Nam",
                                    "3": "Minh Toàn Galaxy",
                                    "4": "Ban Tiếp Khách"
                                },
                                {
                                    "0": "Lý  Quỳ",
                                    "1": "1967-11-18",
                                    "2": "Nam",
                                    "3": "Minh Toàn Galaxy",
                                    "4": "Ban Vệ Sinh"
                                },
                                {
                                    "0": "Tiểu Long Nữ",
                                    "1": "1986-09-29",
                                    "2": "Nữ",
                                    "3": "Minh Toàn Galaxy",
                                    "4": "Ban Đón Khách"
                                },
                                {
                                    "0": "Trương Văn Viễn",
                                    "1": "1977-02-22",
                                    "2": "Nam",
                                    "3": "Minh Toàn Galaxy",
                                    "4": "Quầy Tiếp Tân"
                                },
                                {
                                    "0": "Tôn Hành Giả",
                                    "1": "1986-01-01",
                                    "2": "Nam",
                                    "3": "Mường Thanh Luxury",
                                    "4": "Ban Quản Lý"
                                },
                                {
                                    "0": "Trần Huyền Trang",
                                    "1": "1986-01-11",
                                    "2": "Nam",
                                    "3": "Mường Thanh Luxury",
                                    "4": "Quầy Tiếp Tân"
                                },
                                {
                                    "0": "Trư Ngộ Năng",
                                    "1": "1986-11-01",
                                    "2": "Nam",
                                    "3": "Mường Thanh Luxury",
                                    "4": "Ban Vệ Sinh"
                                },
                                {
                                    "0": "Sa Ngộ Tĩnh",
                                    "1": "1986-12-10",
                                    "2": "Nam",
                                    "3": "Mường Thanh Luxury",
                                    "4": "Ban Đón Khách"
                                },
                                {
                                    "0": "Tôn Văn Đài",
                                    "1": "1988-10-01",
                                    "2": "Nam",
                                    "3": "Mường Thanh Luxury",
                                    "4": "Ban Tiếp Khách"
                                }
                            ]
                        },
                        "text/html": "<table><tr><th>full_name</th><th>date_ob</th><th>sex</th><th>hotel</th><th>department</th></tr><tr><td>Dương  Quá</td><td>1976-10-10</td><td>Nam</td><td>Agoda Hotel</td><td>Ban Tiếp Khách</td></tr><tr><td>Độc Cô Cầu Bại</td><td>1986-12-09</td><td>Nam</td><td>Agoda Hotel</td><td>Ban Đón Khách</td></tr><tr><td>Quách  Tương</td><td>1986-06-21</td><td>Nữ</td><td>Agoda Hotel</td><td>Ban Vệ Sinh</td></tr><tr><td>Quách  Tĩnh</td><td>1981-02-04</td><td>Nam</td><td>Agoda Hotel</td><td>Ban Quản Lý</td></tr><tr><td>Hồng Thất Công</td><td>1978-12-19</td><td>Nam</td><td>LandMark 81</td><td>Quầy Tiếp Tân</td></tr><tr><td>Võ  Tòng</td><td>1970-08-12</td><td>Nam</td><td>LandMark 81</td><td>Ban Đón Khách</td></tr><tr><td>Lý Mạc Sầu</td><td>1969-12-12</td><td>Nữ</td><td>LandMark 81</td><td>Ban Quản Lý</td></tr><tr><td>Tào Tử Hiếu</td><td>1969-01-18</td><td>Nam</td><td>LandMark 81</td><td>Ban Vệ Sinh</td></tr><tr><td>Lâm  Xung</td><td>1999-10-01</td><td>Nam</td><td>Minh Toàn Galaxy</td><td>Ban Tiếp Khách</td></tr><tr><td>Lý  Quỳ</td><td>1967-11-18</td><td>Nam</td><td>Minh Toàn Galaxy</td><td>Ban Vệ Sinh</td></tr><tr><td>Tiểu Long Nữ</td><td>1986-09-29</td><td>Nữ</td><td>Minh Toàn Galaxy</td><td>Ban Đón Khách</td></tr><tr><td>Trương Văn Viễn</td><td>1977-02-22</td><td>Nam</td><td>Minh Toàn Galaxy</td><td>Quầy Tiếp Tân</td></tr><tr><td>Tôn Hành Giả</td><td>1986-01-01</td><td>Nam</td><td>Mường Thanh Luxury</td><td>Ban Quản Lý</td></tr><tr><td>Trần Huyền Trang</td><td>1986-01-11</td><td>Nam</td><td>Mường Thanh Luxury</td><td>Quầy Tiếp Tân</td></tr><tr><td>Trư Ngộ Năng</td><td>1986-11-01</td><td>Nam</td><td>Mường Thanh Luxury</td><td>Ban Vệ Sinh</td></tr><tr><td>Sa Ngộ Tĩnh</td><td>1986-12-10</td><td>Nam</td><td>Mường Thanh Luxury</td><td>Ban Đón Khách</td></tr><tr><td>Tôn Văn Đài</td><td>1988-10-01</td><td>Nam</td><td>Mường Thanh Luxury</td><td>Ban Tiếp Khách</td></tr></table>"
                    },
                    "metadata": {}
                }
            ],
            "execution_count": 10
        },
        {
            "cell_type": "code",
            "source": [
                "SELECT  DISTINCT CONCAT(Rtrim(g.last_name), ' ', RTRIM(g.middle_name), ' ', RTRIM(g.first_name)) as full_name,\n",
                "        h.name as hotel,  hs.service_name\n",
                "FROM booking as b \n",
                "INNER JOIN service_used as s \n",
                "ON b.booking_id = s.service_booking_id \n",
                "INNER JOIN hotel_service as hs \n",
                "ON s.hotel_service_id = hs.service_id\n",
                "INNER JOIN hotel as h \n",
                "ON hs.hotel_id = h.hotel_id\n",
                "INNER JOIN guest as g \n",
                "ON b.guest_booking_id = g.guest_id \n",
                "ORDER BY full_name;"
            ],
            "metadata": {
                "language": "sql",
                "azdata_cell_guid": "3d610e30-bdda-4b54-87ea-420777a744ab"
            },
            "outputs": [
                {
                    "output_type": "display_data",
                    "data": {
                        "text/html": "(14 rows affected)"
                    },
                    "metadata": {}
                },
                {
                    "output_type": "display_data",
                    "data": {
                        "text/html": "Total execution time: 00:00:00.050"
                    },
                    "metadata": {}
                },
                {
                    "output_type": "execute_result",
                    "execution_count": 38,
                    "data": {
                        "application/vnd.dataresource+json": {
                            "schema": {
                                "fields": [
                                    {
                                        "name": "full_name"
                                    },
                                    {
                                        "name": "hotel"
                                    },
                                    {
                                        "name": "service_name"
                                    }
                                ]
                            },
                            "data": [
                                {
                                    "0": "Lã Phụng Tiên",
                                    "1": "LandMark 81",
                                    "2": "Phòng Giải Trí"
                                },
                                {
                                    "0": "Lỗ Tử Kính",
                                    "1": "Agoda Hotel",
                                    "2": "Hồ bơi"
                                },
                                {
                                    "0": "Lỗ Tử Kính",
                                    "1": "Agoda Hotel",
                                    "2": "Phòng Dịch Vụ 24h"
                                },
                                {
                                    "0": "Lỗ Tử Kính",
                                    "1": "LandMark 81",
                                    "2": "Phòng Giải Trí"
                                },
                                {
                                    "0": "Quan Vân Trường",
                                    "1": "Minh Toàn Galaxy",
                                    "2": "Tổ chức tiệc"
                                },
                                {
                                    "0": "Quan Vân Trường",
                                    "1": "Mường Thanh Luxury",
                                    "2": "Hồ bơi"
                                },
                                {
                                    "0": "Tào Mạnh Đức",
                                    "1": "Minh Toàn Galaxy",
                                    "2": "Tổ chức tiệc"
                                },
                                {
                                    "0": "Thái Vân Cơ",
                                    "1": "LandMark 81",
                                    "2": "Hồ bơi"
                                },
                                {
                                    "0": "Tôn Thượng Hương",
                                    "1": "LandMark 81",
                                    "2": "Hồ bơi"
                                },
                                {
                                    "0": "Triệu Tử Long",
                                    "1": "Minh Toàn Galaxy",
                                    "2": "Gym"
                                },
                                {
                                    "0": "Triệu Tử Long",
                                    "1": "Mường Thanh Luxury",
                                    "2": "Đổi tiền"
                                },
                                {
                                    "0": "Triệu Tử Long",
                                    "1": "Mường Thanh Luxury",
                                    "2": "Giặt Ủi"
                                },
                                {
                                    "0": "Triệu Tử Long",
                                    "1": "Mường Thanh Luxury",
                                    "2": "Hồ bơi"
                                },
                                {
                                    "0": "Tư Mã Ý",
                                    "1": "Mường Thanh Luxury",
                                    "2": "Giặt Ủi"
                                }
                            ]
                        },
                        "text/html": "<table><tr><th>full_name</th><th>hotel</th><th>service_name</th></tr><tr><td>Lã Phụng Tiên</td><td>LandMark 81</td><td>Phòng Giải Trí</td></tr><tr><td>Lỗ Tử Kính</td><td>Agoda Hotel</td><td>Hồ bơi</td></tr><tr><td>Lỗ Tử Kính</td><td>Agoda Hotel</td><td>Phòng Dịch Vụ 24h</td></tr><tr><td>Lỗ Tử Kính</td><td>LandMark 81</td><td>Phòng Giải Trí</td></tr><tr><td>Quan Vân Trường</td><td>Minh Toàn Galaxy</td><td>Tổ chức tiệc</td></tr><tr><td>Quan Vân Trường</td><td>Mường Thanh Luxury</td><td>Hồ bơi</td></tr><tr><td>Tào Mạnh Đức</td><td>Minh Toàn Galaxy</td><td>Tổ chức tiệc</td></tr><tr><td>Thái Vân Cơ</td><td>LandMark 81</td><td>Hồ bơi</td></tr><tr><td>Tôn Thượng Hương</td><td>LandMark 81</td><td>Hồ bơi</td></tr><tr><td>Triệu Tử Long</td><td>Minh Toàn Galaxy</td><td>Gym</td></tr><tr><td>Triệu Tử Long</td><td>Mường Thanh Luxury</td><td>Đổi tiền</td></tr><tr><td>Triệu Tử Long</td><td>Mường Thanh Luxury</td><td>Giặt Ủi</td></tr><tr><td>Triệu Tử Long</td><td>Mường Thanh Luxury</td><td>Hồ bơi</td></tr><tr><td>Tư Mã Ý</td><td>Mường Thanh Luxury</td><td>Giặt Ủi</td></tr></table>"
                    },
                    "metadata": {}
                }
            ],
            "execution_count": 38
        },
        {
            "cell_type": "code",
            "source": [
                "SELECT CONCAT(Rtrim(g.last_name), ' ', RTRIM(g.middle_name), ' ', RTRIM(g.first_name)) as full_name,\n",
                "        h.name,  hs.service_name,s.count\n",
                "FROM booking as b \n",
                "INNER JOIN service_used as s \n",
                "ON b.booking_id = s.service_booking_id \n",
                "INNER JOIN hotel_service as hs \n",
                "ON s.hotel_service_id = hs.service_id\n",
                "INNER JOIN hotel as h \n",
                "ON hs.hotel_id = h.hotel_id\n",
                "INNER JOIN guest as g \n",
                "ON b.guest_booking_id = g.guest_id "
            ],
            "metadata": {
                "language": "sql",
                "azdata_cell_guid": "ff2a39b0-fb23-41fc-9e8b-ec6eced6761c"
            },
            "outputs": [
                {
                    "output_type": "display_data",
                    "data": {
                        "text/html": "(18 rows affected)"
                    },
                    "metadata": {}
                },
                {
                    "output_type": "display_data",
                    "data": {
                        "text/html": "Total execution time: 00:00:00.026"
                    },
                    "metadata": {}
                },
                {
                    "output_type": "execute_result",
                    "execution_count": 30,
                    "data": {
                        "application/vnd.dataresource+json": {
                            "schema": {
                                "fields": [
                                    {
                                        "name": "full_name"
                                    },
                                    {
                                        "name": "name"
                                    },
                                    {
                                        "name": "service_name"
                                    },
                                    {
                                        "name": "count"
                                    }
                                ]
                            },
                            "data": [
                                {
                                    "0": "Triệu Tử Long",
                                    "1": "Mường Thanh Luxury",
                                    "2": "Hồ bơi",
                                    "3": "1"
                                },
                                {
                                    "0": "Triệu Tử Long",
                                    "1": "Mường Thanh Luxury",
                                    "2": "Đổi tiền",
                                    "3": "2"
                                },
                                {
                                    "0": "Lã Phụng Tiên",
                                    "1": "LandMark 81",
                                    "2": "Phòng Giải Trí",
                                    "3": "2"
                                },
                                {
                                    "0": "Quan Vân Trường",
                                    "1": "Minh Toàn Galaxy",
                                    "2": "Tổ chức tiệc",
                                    "3": "1"
                                },
                                {
                                    "0": "Thái Vân Cơ",
                                    "1": "LandMark 81",
                                    "2": "Hồ bơi",
                                    "3": "3"
                                },
                                {
                                    "0": "Lỗ Tử Kính",
                                    "1": "Agoda Hotel",
                                    "2": "Hồ bơi",
                                    "3": "1"
                                },
                                {
                                    "0": "Lỗ Tử Kính",
                                    "1": "Agoda Hotel",
                                    "2": "Phòng Dịch Vụ 24h",
                                    "3": "2"
                                },
                                {
                                    "0": "Tào Mạnh Đức",
                                    "1": "Minh Toàn Galaxy",
                                    "2": "Tổ chức tiệc",
                                    "3": "2"
                                },
                                {
                                    "0": "Tư Mã Ý",
                                    "1": "Mường Thanh Luxury",
                                    "2": "Giặt Ủi",
                                    "3": "1"
                                },
                                {
                                    "0": "Triệu Tử Long",
                                    "1": "Mường Thanh Luxury",
                                    "2": "Hồ bơi",
                                    "3": "2"
                                },
                                {
                                    "0": "Lỗ Tử Kính",
                                    "1": "LandMark 81",
                                    "2": "Phòng Giải Trí",
                                    "3": "1"
                                },
                                {
                                    "0": "Quan Vân Trường",
                                    "1": "Mường Thanh Luxury",
                                    "2": "Hồ bơi",
                                    "3": "3"
                                },
                                {
                                    "0": "Triệu Tử Long",
                                    "1": "Mường Thanh Luxury",
                                    "2": "Hồ bơi",
                                    "3": "2"
                                },
                                {
                                    "0": "Triệu Tử Long",
                                    "1": "Mường Thanh Luxury",
                                    "2": "Giặt Ủi",
                                    "3": "1"
                                },
                                {
                                    "0": "Tư Mã Ý",
                                    "1": "Mường Thanh Luxury",
                                    "2": "Giặt Ủi",
                                    "3": "2"
                                },
                                {
                                    "0": "Tôn Thượng Hương",
                                    "1": "LandMark 81",
                                    "2": "Hồ bơi",
                                    "3": "1"
                                },
                                {
                                    "0": "Lỗ Tử Kính",
                                    "1": "Agoda Hotel",
                                    "2": "Hồ bơi",
                                    "3": "1"
                                },
                                {
                                    "0": "Triệu Tử Long",
                                    "1": "Minh Toàn Galaxy",
                                    "2": "Gym",
                                    "3": "3"
                                }
                            ]
                        },
                        "text/html": "<table><tr><th>full_name</th><th>name</th><th>service_name</th><th>count</th></tr><tr><td>Triệu Tử Long</td><td>Mường Thanh Luxury</td><td>Hồ bơi</td><td>1</td></tr><tr><td>Triệu Tử Long</td><td>Mường Thanh Luxury</td><td>Đổi tiền</td><td>2</td></tr><tr><td>Lã Phụng Tiên</td><td>LandMark 81</td><td>Phòng Giải Trí</td><td>2</td></tr><tr><td>Quan Vân Trường</td><td>Minh Toàn Galaxy</td><td>Tổ chức tiệc</td><td>1</td></tr><tr><td>Thái Vân Cơ</td><td>LandMark 81</td><td>Hồ bơi</td><td>3</td></tr><tr><td>Lỗ Tử Kính</td><td>Agoda Hotel</td><td>Hồ bơi</td><td>1</td></tr><tr><td>Lỗ Tử Kính</td><td>Agoda Hotel</td><td>Phòng Dịch Vụ 24h</td><td>2</td></tr><tr><td>Tào Mạnh Đức</td><td>Minh Toàn Galaxy</td><td>Tổ chức tiệc</td><td>2</td></tr><tr><td>Tư Mã Ý</td><td>Mường Thanh Luxury</td><td>Giặt Ủi</td><td>1</td></tr><tr><td>Triệu Tử Long</td><td>Mường Thanh Luxury</td><td>Hồ bơi</td><td>2</td></tr><tr><td>Lỗ Tử Kính</td><td>LandMark 81</td><td>Phòng Giải Trí</td><td>1</td></tr><tr><td>Quan Vân Trường</td><td>Mường Thanh Luxury</td><td>Hồ bơi</td><td>3</td></tr><tr><td>Triệu Tử Long</td><td>Mường Thanh Luxury</td><td>Hồ bơi</td><td>2</td></tr><tr><td>Triệu Tử Long</td><td>Mường Thanh Luxury</td><td>Giặt Ủi</td><td>1</td></tr><tr><td>Tư Mã Ý</td><td>Mường Thanh Luxury</td><td>Giặt Ủi</td><td>2</td></tr><tr><td>Tôn Thượng Hương</td><td>LandMark 81</td><td>Hồ bơi</td><td>1</td></tr><tr><td>Lỗ Tử Kính</td><td>Agoda Hotel</td><td>Hồ bơi</td><td>1</td></tr><tr><td>Triệu Tử Long</td><td>Minh Toàn Galaxy</td><td>Gym</td><td>3</td></tr></table>"
                    },
                    "metadata": {}
                }
            ],
            "execution_count": 30
        },
        {
            "cell_type": "code",
            "source": [
                "SELECT r.name as restaurant, dn.dish_name, price\n",
                "FROM menu as m\n",
                "INNER JOIN dish_name as dn \n",
                "ON m.menu_id = dn.menu_id \n",
                "INNER JOIN restaurant as r \n",
                "ON m.res_id = r.res_id "
            ],
            "metadata": {
                "language": "sql",
                "azdata_cell_guid": "b818ce68-6f31-4c95-98dd-a4fd0fafbba7"
            },
            "outputs": [
                {
                    "output_type": "display_data",
                    "data": {
                        "text/html": "(28 rows affected)"
                    },
                    "metadata": {}
                },
                {
                    "output_type": "display_data",
                    "data": {
                        "text/html": "Total execution time: 00:00:00.024"
                    },
                    "metadata": {}
                },
                {
                    "output_type": "execute_result",
                    "execution_count": 33,
                    "data": {
                        "application/vnd.dataresource+json": {
                            "schema": {
                                "fields": [
                                    {
                                        "name": "restaurant"
                                    },
                                    {
                                        "name": "dish_name"
                                    },
                                    {
                                        "name": "price"
                                    }
                                ]
                            },
                            "data": [
                                {
                                    "0": "Agoda Restaurant",
                                    "1": "Cua hấp",
                                    "2": "90000"
                                },
                                {
                                    "0": "Agoda Restaurant",
                                    "1": "Bò hấp",
                                    "2": "100000"
                                },
                                {
                                    "0": "Agoda Restaurant",
                                    "1": "Tôm hấp",
                                    "2": "80000"
                                },
                                {
                                    "0": "Agoda Restaurant",
                                    "1": "Gà hấp",
                                    "2": "60000"
                                },
                                {
                                    "0": "Agoda Restaurant",
                                    "1": "Cá hấp",
                                    "2": "75000"
                                },
                                {
                                    "0": "Agoda Restaurant",
                                    "1": "Cà phê",
                                    "2": "29000"
                                },
                                {
                                    "0": "Agoda Restaurant",
                                    "1": "Nước bí đao",
                                    "2": "15000"
                                },
                                {
                                    "0": "Land Mark Restaurant",
                                    "1": "Tôm hùm hấp",
                                    "2": "600000"
                                },
                                {
                                    "0": "Land Mark Restaurant",
                                    "1": "Súp bí ngô",
                                    "2": "150000"
                                },
                                {
                                    "0": "Land Mark Restaurant",
                                    "1": "Bò sốt tiêu đen",
                                    "2": "700000"
                                },
                                {
                                    "0": "Land Mark Restaurant",
                                    "1": "Mỳ ý bò bằm",
                                    "2": "200000"
                                },
                                {
                                    "0": "Land Mark Restaurant",
                                    "1": "Salad rau củ",
                                    "2": "100000"
                                },
                                {
                                    "0": "Land Mark Restaurant",
                                    "1": "Cà phê và trái cây",
                                    "2": "80000"
                                },
                                {
                                    "0": "Land Mark Restaurant",
                                    "1": "Nước trái cây các loại",
                                    "2": "30000"
                                },
                                {
                                    "0": "Minh Toàn Restaurant",
                                    "1": "Gà nướng",
                                    "2": "100000"
                                },
                                {
                                    "0": "Minh Toàn Restaurant",
                                    "1": "Salad cá ngừ",
                                    "2": "80000"
                                },
                                {
                                    "0": "Minh Toàn Restaurant",
                                    "1": "Sườn nướng",
                                    "2": "200000"
                                },
                                {
                                    "0": "Minh Toàn Restaurant",
                                    "1": "Mỳ ý",
                                    "2": "70000"
                                },
                                {
                                    "0": "Minh Toàn Restaurant",
                                    "1": "Súp cua",
                                    "2": "70000"
                                },
                                {
                                    "0": "Minh Toàn Restaurant",
                                    "1": "Cà phê sữa",
                                    "2": "25000"
                                },
                                {
                                    "0": "Minh Toàn Restaurant",
                                    "1": "Nước rau má",
                                    "2": "30000"
                                },
                                {
                                    "0": "Mường Thanh Restaurant",
                                    "1": "Cơm chiên dương châu",
                                    "2": "100000"
                                },
                                {
                                    "0": "Mường Thanh Restaurant",
                                    "1": "Cá hồi áp chảo",
                                    "2": "450000"
                                },
                                {
                                    "0": "Mường Thanh Restaurant",
                                    "1": "Bò bít tết",
                                    "2": "500000"
                                },
                                {
                                    "0": "Mường Thanh Restaurant",
                                    "1": "Súp kem nấm",
                                    "2": "120000"
                                },
                                {
                                    "0": "Mường Thanh Restaurant",
                                    "1": "Cá ngừ & mù tạt",
                                    "2": "200000"
                                },
                                {
                                    "0": "Mường Thanh Restaurant",
                                    "1": "Cà phê và bánh",
                                    "2": "50000"
                                },
                                {
                                    "0": "Mường Thanh Restaurant",
                                    "1": "Nước cam",
                                    "2": "40000"
                                }
                            ]
                        },
                        "text/html": "<table><tr><th>restaurant</th><th>dish_name</th><th>price</th></tr><tr><td>Agoda Restaurant</td><td>Cua hấp</td><td>90000</td></tr><tr><td>Agoda Restaurant</td><td>Bò hấp</td><td>100000</td></tr><tr><td>Agoda Restaurant</td><td>Tôm hấp</td><td>80000</td></tr><tr><td>Agoda Restaurant</td><td>Gà hấp</td><td>60000</td></tr><tr><td>Agoda Restaurant</td><td>Cá hấp</td><td>75000</td></tr><tr><td>Agoda Restaurant</td><td>Cà phê</td><td>29000</td></tr><tr><td>Agoda Restaurant</td><td>Nước bí đao</td><td>15000</td></tr><tr><td>Land Mark Restaurant</td><td>Tôm hùm hấp</td><td>600000</td></tr><tr><td>Land Mark Restaurant</td><td>Súp bí ngô</td><td>150000</td></tr><tr><td>Land Mark Restaurant</td><td>Bò sốt tiêu đen</td><td>700000</td></tr><tr><td>Land Mark Restaurant</td><td>Mỳ ý bò bằm</td><td>200000</td></tr><tr><td>Land Mark Restaurant</td><td>Salad rau củ</td><td>100000</td></tr><tr><td>Land Mark Restaurant</td><td>Cà phê và trái cây</td><td>80000</td></tr><tr><td>Land Mark Restaurant</td><td>Nước trái cây các loại</td><td>30000</td></tr><tr><td>Minh Toàn Restaurant</td><td>Gà nướng</td><td>100000</td></tr><tr><td>Minh Toàn Restaurant</td><td>Salad cá ngừ</td><td>80000</td></tr><tr><td>Minh Toàn Restaurant</td><td>Sườn nướng</td><td>200000</td></tr><tr><td>Minh Toàn Restaurant</td><td>Mỳ ý</td><td>70000</td></tr><tr><td>Minh Toàn Restaurant</td><td>Súp cua</td><td>70000</td></tr><tr><td>Minh Toàn Restaurant</td><td>Cà phê sữa</td><td>25000</td></tr><tr><td>Minh Toàn Restaurant</td><td>Nước rau má</td><td>30000</td></tr><tr><td>Mường Thanh Restaurant</td><td>Cơm chiên dương châu</td><td>100000</td></tr><tr><td>Mường Thanh Restaurant</td><td>Cá hồi áp chảo</td><td>450000</td></tr><tr><td>Mường Thanh Restaurant</td><td>Bò bít tết</td><td>500000</td></tr><tr><td>Mường Thanh Restaurant</td><td>Súp kem nấm</td><td>120000</td></tr><tr><td>Mường Thanh Restaurant</td><td>Cá ngừ &amp; mù tạt</td><td>200000</td></tr><tr><td>Mường Thanh Restaurant</td><td>Cà phê và bánh</td><td>50000</td></tr><tr><td>Mường Thanh Restaurant</td><td>Nước cam</td><td>40000</td></tr></table>"
                    },
                    "metadata": {}
                }
            ],
            "execution_count": 33
        },
        {
            "cell_type": "code",
            "source": [
                "SELECT h.name as hotel, CONCAT(RTRIM(street),', ', RTRIM(ward),', ', RTRIM(district),', ',RTRIM(city)) as address,\n",
                "         open_time\n",
                "FROM hotel as h \n",
                "INNER JOIN address as a \n",
                "ON h.address_hotel_id = a.address_id\n",
                "WHERE open_time = '07:00:00'"
            ],
            "metadata": {
                "language": "sql",
                "azdata_cell_guid": "649212f3-6e0e-44a9-aa65-5606bbefedb2"
            },
            "outputs": [
                {
                    "output_type": "display_data",
                    "data": {
                        "text/html": "(2 rows affected)"
                    },
                    "metadata": {}
                },
                {
                    "output_type": "display_data",
                    "data": {
                        "text/html": "Total execution time: 00:00:00.058"
                    },
                    "metadata": {}
                },
                {
                    "output_type": "execute_result",
                    "execution_count": 36,
                    "data": {
                        "application/vnd.dataresource+json": {
                            "schema": {
                                "fields": [
                                    {
                                        "name": "hotel"
                                    },
                                    {
                                        "name": "address"
                                    },
                                    {
                                        "name": "open_time"
                                    }
                                ]
                            },
                            "data": [
                                {
                                    "0": "Minh Toàn Galaxy",
                                    "1": "87 Đường 3/2, Phường Bến Nghé, Quận 1, TP Hồ Chí Minh",
                                    "2": "07:00:00"
                                },
                                {
                                    "0": "Agoda Hotel",
                                    "1": "25 Lý Tự Trọng, Phường 15, Quận 10, TP Hồ Chí Minh",
                                    "2": "07:00:00"
                                }
                            ]
                        },
                        "text/html": "<table><tr><th>hotel</th><th>address</th><th>open_time</th></tr><tr><td>Minh Toàn Galaxy</td><td>87 Đường 3/2, Phường Bến Nghé, Quận 1, TP Hồ Chí Minh</td><td>07:00:00</td></tr><tr><td>Agoda Hotel</td><td>25 Lý Tự Trọng, Phường 15, Quận 10, TP Hồ Chí Minh</td><td>07:00:00</td></tr></table>"
                    },
                    "metadata": {}
                }
            ],
            "execution_count": 36
        },
        {
            "cell_type": "code",
            "source": [
                "SELECT CONCAT(Rtrim(g.last_name), ' ', RTRIM(g.middle_name), ' ', RTRIM(g.first_name)) as full_name,\n",
                "        b.booking_date, b.payment_type\n",
                "FROM booking as b \n",
                "INNER JOIN guest as g \n",
                "ON b.guest_booking_id = g.guest_id \n",
                "WHERE g.sex = N'Nam'\n",
                "AND (\n",
                "    (MONTH(b.booking_date) BETWEEN 8 AND 10)\n",
                "    OR b.payment_type = 'Cash' \n",
                "    );"
            ],
            "metadata": {
                "language": "sql",
                "azdata_cell_guid": "5ad4c692-20da-40b6-bbe8-dae665125dd7"
            },
            "outputs": [
                {
                    "output_type": "display_data",
                    "data": {
                        "text/html": "(9 rows affected)"
                    },
                    "metadata": {}
                },
                {
                    "output_type": "display_data",
                    "data": {
                        "text/html": "Total execution time: 00:00:00.037"
                    },
                    "metadata": {}
                },
                {
                    "output_type": "execute_result",
                    "execution_count": 37,
                    "data": {
                        "application/vnd.dataresource+json": {
                            "schema": {
                                "fields": [
                                    {
                                        "name": "full_name"
                                    },
                                    {
                                        "name": "booking_date"
                                    },
                                    {
                                        "name": "payment_type"
                                    }
                                ]
                            },
                            "data": [
                                {
                                    "0": "Tư Mã Ý",
                                    "1": "2022-04-05",
                                    "2": "Cash"
                                },
                                {
                                    "0": "Lỗ Tử Kính",
                                    "1": "2022-04-04",
                                    "2": "Cash"
                                },
                                {
                                    "0": "Quan Vân Trường",
                                    "1": "2022-02-02",
                                    "2": "Cash"
                                },
                                {
                                    "0": "Lưu Huyền Đức",
                                    "1": "2022-02-12",
                                    "2": "Cash"
                                },
                                {
                                    "0": "Tư Mã Ý",
                                    "1": "2022-07-08",
                                    "2": "Cash"
                                },
                                {
                                    "0": "Lỗ Tử Kính",
                                    "1": "2022-09-01",
                                    "2": "Credit Card"
                                },
                                {
                                    "0": "Tào Mạnh Đức",
                                    "1": "2022-10-02",
                                    "2": "Credit Card"
                                },
                                {
                                    "0": "Tư Mã Ý",
                                    "1": "2022-10-04",
                                    "2": "Cash"
                                },
                                {
                                    "0": "Lỗ Tử Kính",
                                    "1": "2022-10-06",
                                    "2": "Credit Card"
                                }
                            ]
                        },
                        "text/html": "<table><tr><th>full_name</th><th>booking_date</th><th>payment_type</th></tr><tr><td>Tư Mã Ý</td><td>2022-04-05</td><td>Cash</td></tr><tr><td>Lỗ Tử Kính</td><td>2022-04-04</td><td>Cash</td></tr><tr><td>Quan Vân Trường</td><td>2022-02-02</td><td>Cash</td></tr><tr><td>Lưu Huyền Đức</td><td>2022-02-12</td><td>Cash</td></tr><tr><td>Tư Mã Ý</td><td>2022-07-08</td><td>Cash</td></tr><tr><td>Lỗ Tử Kính</td><td>2022-09-01</td><td>Credit Card</td></tr><tr><td>Tào Mạnh Đức</td><td>2022-10-02</td><td>Credit Card</td></tr><tr><td>Tư Mã Ý</td><td>2022-10-04</td><td>Cash</td></tr><tr><td>Lỗ Tử Kính</td><td>2022-10-06</td><td>Credit Card</td></tr></table>"
                    },
                    "metadata": {}
                }
            ],
            "execution_count": 37
        },
        {
            "cell_type": "code",
            "source": [
                "select hotel_id\n",
                "FROM hotel\n",
                "WHERE room_count > 40\n",
                "EXCEPT\n",
                "SELECT hotel_id \n",
                "FROM hotel \n",
                "WHERE star_rating = 5;"
            ],
            "metadata": {
                "language": "sql",
                "azdata_cell_guid": "ba005426-6ab1-40ee-9afc-126a11e6860b",
                "tags": []
            },
            "outputs": [
                {
                    "output_type": "display_data",
                    "data": {
                        "text/html": "(2 rows affected)"
                    },
                    "metadata": {}
                },
                {
                    "output_type": "display_data",
                    "data": {
                        "text/html": "Total execution time: 00:00:00.052"
                    },
                    "metadata": {}
                },
                {
                    "output_type": "execute_result",
                    "execution_count": 45,
                    "data": {
                        "application/vnd.dataresource+json": {
                            "schema": {
                                "fields": [
                                    {
                                        "name": "hotel_id"
                                    }
                                ]
                            },
                            "data": [
                                {
                                    "0": "Hotel02             "
                                },
                                {
                                    "0": "Hotel03             "
                                }
                            ]
                        },
                        "text/html": "<table><tr><th>hotel_id</th></tr><tr><td>Hotel02             </td></tr><tr><td>Hotel03             </td></tr></table>"
                    },
                    "metadata": {}
                }
            ],
            "execution_count": 45
        },
        {
            "cell_type": "code",
            "source": [
                "SELECT booking_id, guest_booking_id \n",
                "FROM booking\n",
                "WHERE guest_booking_id  IN (\n",
                "SELECT guest_id\n",
                "FROM guest\n",
                "WHERE sex = N'Nam'\n",
                "EXCEPT \n",
                "SELECT guest_booking_id \n",
                "FROM booking \n",
                "WHERE duration_stay > 5 AND payment_type = 'Credit Card');"
            ],
            "metadata": {
                "language": "sql",
                "azdata_cell_guid": "98e416a7-6baa-4f19-bf50-c28a17bcfbda"
            },
            "outputs": [
                {
                    "output_type": "display_data",
                    "data": {
                        "text/html": "(12 rows affected)"
                    },
                    "metadata": {}
                },
                {
                    "output_type": "display_data",
                    "data": {
                        "text/html": "Total execution time: 00:00:00.045"
                    },
                    "metadata": {}
                },
                {
                    "output_type": "execute_result",
                    "execution_count": 13,
                    "data": {
                        "application/vnd.dataresource+json": {
                            "schema": {
                                "fields": [
                                    {
                                        "name": "booking_id"
                                    },
                                    {
                                        "name": "guest_booking_id"
                                    }
                                ]
                            },
                            "data": [
                                {
                                    "0": "booking01 ",
                                    "1": "guest_12  "
                                },
                                {
                                    "0": "booking02 ",
                                    "1": "guest_09  "
                                },
                                {
                                    "0": "booking03 ",
                                    "1": "guest_02  "
                                },
                                {
                                    "0": "booking04 ",
                                    "1": "guest_03  "
                                },
                                {
                                    "0": "booking08 ",
                                    "1": "guest_10  "
                                },
                                {
                                    "0": "booking10 ",
                                    "1": "guest_07  "
                                },
                                {
                                    "0": "booking13 ",
                                    "1": "guest_02  "
                                },
                                {
                                    "0": "booking16 ",
                                    "1": "guest_09  "
                                },
                                {
                                    "0": "booking17 ",
                                    "1": "guest_12  "
                                },
                                {
                                    "0": "booking19 ",
                                    "1": "guest_07  "
                                },
                                {
                                    "0": "booking21 ",
                                    "1": "guest_12  "
                                },
                                {
                                    "0": "booking23 ",
                                    "1": "guest_09  "
                                }
                            ]
                        },
                        "text/html": "<table><tr><th>booking_id</th><th>guest_booking_id</th></tr><tr><td>booking01 </td><td>guest_12  </td></tr><tr><td>booking02 </td><td>guest_09  </td></tr><tr><td>booking03 </td><td>guest_02  </td></tr><tr><td>booking04 </td><td>guest_03  </td></tr><tr><td>booking08 </td><td>guest_10  </td></tr><tr><td>booking10 </td><td>guest_07  </td></tr><tr><td>booking13 </td><td>guest_02  </td></tr><tr><td>booking16 </td><td>guest_09  </td></tr><tr><td>booking17 </td><td>guest_12  </td></tr><tr><td>booking19 </td><td>guest_07  </td></tr><tr><td>booking21 </td><td>guest_12  </td></tr><tr><td>booking23 </td><td>guest_09  </td></tr></table>"
                    },
                    "metadata": {}
                }
            ],
            "execution_count": 13
        },
        {
            "cell_type": "code",
            "source": [
                "SELECT room_booking_id \n",
                "FROM booking \n",
                "WHERE MONTH(booking_date) = 8\n",
                "EXCEPT \n",
                "SELECT room_booking_id\n",
                "FROM booking \n",
                "WHERE DAY(checkin_date) - Day(booking_date) >5"
            ],
            "metadata": {
                "language": "sql",
                "azdata_cell_guid": "52de4281-26d0-4282-b32f-95f3564fb863"
            },
            "outputs": [
                {
                    "output_type": "display_data",
                    "data": {
                        "text/html": "(1 row affected)"
                    },
                    "metadata": {}
                },
                {
                    "output_type": "display_data",
                    "data": {
                        "text/html": "Total execution time: 00:00:00.031"
                    },
                    "metadata": {}
                },
                {
                    "output_type": "execute_result",
                    "execution_count": 17,
                    "data": {
                        "application/vnd.dataresource+json": {
                            "schema": {
                                "fields": [
                                    {
                                        "name": "room_booking_id"
                                    }
                                ]
                            },
                            "data": [
                                {
                                    "0": "lmroom_03 "
                                }
                            ]
                        },
                        "text/html": "<table><tr><th>room_booking_id</th></tr><tr><td>lmroom_03 </td></tr></table>"
                    },
                    "metadata": {}
                }
            ],
            "execution_count": 17
        },
        {
            "cell_type": "code",
            "source": [
                "SELECT g.first_name, g.date_of_birth, g.contact_number \n",
                "FROM guest as g, booking as b\n",
                "WHERE g.guest_id = b.guest_booking_id \n",
                "AND sex = N'Nam' \n",
                "AND b.duration_stay > 5;"
            ],
            "metadata": {
                "language": "sql",
                "azdata_cell_guid": "5be0a899-851b-47a4-8abb-10b2d4073102"
            },
            "outputs": [
                {
                    "output_type": "display_data",
                    "data": {
                        "text/html": "(6 rows affected)"
                    },
                    "metadata": {}
                },
                {
                    "output_type": "display_data",
                    "data": {
                        "text/html": "Total execution time: 00:00:00.036"
                    },
                    "metadata": {}
                },
                {
                    "output_type": "execute_result",
                    "execution_count": 20,
                    "data": {
                        "application/vnd.dataresource+json": {
                            "schema": {
                                "fields": [
                                    {
                                        "name": "first_name"
                                    },
                                    {
                                        "name": "date_of_birth"
                                    },
                                    {
                                        "name": "contact_number"
                                    }
                                ]
                            },
                            "data": [
                                {
                                    "0": "Kính",
                                    "1": "1959-06-23",
                                    "2": "0923012678"
                                },
                                {
                                    "0": "Đức",
                                    "1": "1954-02-22",
                                    "2": "0789212345"
                                },
                                {
                                    "0": "Cẩn",
                                    "1": "1967-08-31",
                                    "2": "0905656565"
                                },
                                {
                                    "0": "Đức",
                                    "1": "1950-06-24",
                                    "2": "0905236555"
                                },
                                {
                                    "0": "Trường",
                                    "1": "1949-02-22",
                                    "2": "0898221777"
                                },
                                {
                                    "0": "Kính",
                                    "1": "1959-06-23",
                                    "2": "0923012678"
                                }
                            ]
                        },
                        "text/html": "<table><tr><th>first_name</th><th>date_of_birth</th><th>contact_number</th></tr><tr><td>Kính</td><td>1959-06-23</td><td>0923012678</td></tr><tr><td>Đức</td><td>1954-02-22</td><td>0789212345</td></tr><tr><td>Cẩn</td><td>1967-08-31</td><td>0905656565</td></tr><tr><td>Đức</td><td>1950-06-24</td><td>0905236555</td></tr><tr><td>Trường</td><td>1949-02-22</td><td>0898221777</td></tr><tr><td>Kính</td><td>1959-06-23</td><td>0923012678</td></tr></table>"
                    },
                    "metadata": {}
                }
            ],
            "execution_count": 20
        },
        {
            "cell_type": "code",
            "source": [
                "SELECT r.room_number, rt.name\n",
                "FROM booking as b, room_type as rt, room as r\n",
                "WHERE b.room_booking_id = r.room_id \n",
                "AND rt.room_type_id = r.room_type_id \n",
                "AND b.duration_stay > 5;"
            ],
            "metadata": {
                "language": "sql",
                "azdata_cell_guid": "e195e3a0-596e-4ddc-a04f-16f887015417",
                "tags": [
                    "hide_input"
                ]
            },
            "outputs": [
                {
                    "output_type": "display_data",
                    "data": {
                        "text/html": "(7 rows affected)"
                    },
                    "metadata": {}
                },
                {
                    "output_type": "display_data",
                    "data": {
                        "text/html": "Total execution time: 00:00:00.064"
                    },
                    "metadata": {}
                },
                {
                    "output_type": "execute_result",
                    "execution_count": 21,
                    "data": {
                        "application/vnd.dataresource+json": {
                            "schema": {
                                "fields": [
                                    {
                                        "name": "room_number"
                                    },
                                    {
                                        "name": "name"
                                    }
                                ]
                            },
                            "data": [
                                {
                                    "0": "621",
                                    "1": "Phòng đôi cao cấp có quang cảnh"
                                },
                                {
                                    "0": "201",
                                    "1": "Phòng đơn thường"
                                },
                                {
                                    "0": "621",
                                    "1": "Phòng đôi cao cấp có quang cảnh"
                                },
                                {
                                    "0": "801",
                                    "1": "Phòng đôi cao cấp có quang cảnh"
                                },
                                {
                                    "0": "546",
                                    "1": "Phòng Suite"
                                },
                                {
                                    "0": "654",
                                    "1": "Phòng đôi cao cấp có quang cảnh"
                                },
                                {
                                    "0": "128",
                                    "1": "Phòng đơn thường"
                                }
                            ]
                        },
                        "text/html": "<table><tr><th>room_number</th><th>name</th></tr><tr><td>621</td><td>Phòng đôi cao cấp có quang cảnh</td></tr><tr><td>201</td><td>Phòng đơn thường</td></tr><tr><td>621</td><td>Phòng đôi cao cấp có quang cảnh</td></tr><tr><td>801</td><td>Phòng đôi cao cấp có quang cảnh</td></tr><tr><td>546</td><td>Phòng Suite</td></tr><tr><td>654</td><td>Phòng đôi cao cấp có quang cảnh</td></tr><tr><td>128</td><td>Phòng đơn thường</td></tr></table>"
                    },
                    "metadata": {}
                }
            ],
            "execution_count": 21
        },
        {
            "cell_type": "code",
            "source": [
                "SELECT  CONCAT(Rtrim(g.last_name), ' ', RTRIM(g.middle_name), ' ', RTRIM(g.first_name)) as full_name,\n",
                "         g.contact_number\n",
                "FROM booking as b\n",
                "INNER JOIN (SELECT hotel_id \n",
                "            FROM hotel \n",
                "            WHERE star_rating = 5) as sub \n",
                "ON b.hotel_booking_id = sub.hotel_id \n",
                "INNER JOIN guest as g \n",
                "ON b.guest_booking_id = g.guest_id\n",
                "WHERE b.duration_stay > (SELECT AVG(duration_stay) FROM booking)\n",
                "AND g.sex = N'Nam';\n",
                "\n",
                ""
            ],
            "metadata": {
                "language": "sql",
                "azdata_cell_guid": "442d3bb7-9c3a-4669-9c83-f2c5b05774e4"
            },
            "outputs": [
                {
                    "output_type": "display_data",
                    "data": {
                        "text/html": "(2 rows affected)"
                    },
                    "metadata": {}
                },
                {
                    "output_type": "display_data",
                    "data": {
                        "text/html": "Total execution time: 00:00:00.040"
                    },
                    "metadata": {}
                },
                {
                    "output_type": "execute_result",
                    "metadata": {},
                    "execution_count": 4,
                    "data": {
                        "application/vnd.dataresource+json": {
                            "schema": {
                                "fields": [
                                    {
                                        "name": "full_name"
                                    },
                                    {
                                        "name": "contact_number"
                                    }
                                ]
                            },
                            "data": [
                                {
                                    "0": "Lã Phụng Tiên",
                                    "1": "0233299122"
                                },
                                {
                                    "0": "Lưu Huyền Đức",
                                    "1": "0905236555"
                                }
                            ]
                        },
                        "text/html": [
                            "<table>",
                            "<tr><th>full_name</th><th>contact_number</th></tr>",
                            "<tr><td>Lã Phụng Tiên</td><td>0233299122</td></tr>",
                            "<tr><td>Lưu Huyền Đức</td><td>0905236555</td></tr>",
                            "</table>"
                        ]
                    }
                }
            ],
            "execution_count": 4
        },
        {
            "cell_type": "code",
            "source": [
                "SELECT h.name, hs.service_name\n",
                "FROM hotel as h\n",
                "inner join hotel_service as hs \n",
                "ON h.hotel_id = hs.hotel_id\n",
                "INNER JOIN service_used as su \n",
                "ON hs.service_id = su.hotel_service_id "
            ],
            "metadata": {
                "language": "sql",
                "azdata_cell_guid": "98b120e2-b63c-437e-b03f-f449a01cbd17"
            },
            "outputs": [
                {
                    "output_type": "display_data",
                    "data": {
                        "text/html": "(12 rows affected)"
                    },
                    "metadata": {}
                },
                {
                    "output_type": "display_data",
                    "data": {
                        "text/html": "Total execution time: 00:00:00.086"
                    },
                    "metadata": {}
                },
                {
                    "output_type": "execute_result",
                    "execution_count": 4,
                    "data": {
                        "application/vnd.dataresource+json": {
                            "schema": {
                                "fields": [
                                    {
                                        "name": "name"
                                    },
                                    {
                                        "name": "service_name"
                                    }
                                ]
                            },
                            "data": [
                                {
                                    "0": "Mường Thanh Luxury",
                                    "1": "Hồ bơi"
                                },
                                {
                                    "0": "Mường Thanh Luxury",
                                    "1": "Đổi tiền"
                                },
                                {
                                    "0": "LandMark 81",
                                    "1": "Phòng Giải Trí"
                                },
                                {
                                    "0": "Minh Toàn Galaxy",
                                    "1": "Tổ chức tiệc"
                                },
                                {
                                    "0": "LandMark 81",
                                    "1": "Hồ bơi"
                                },
                                {
                                    "0": "Agoda Hotel",
                                    "1": "Hồ bơi"
                                },
                                {
                                    "0": "Agoda Hotel",
                                    "1": "Phòng Dịch Vụ 24h"
                                },
                                {
                                    "0": "Minh Toàn Galaxy",
                                    "1": "Tổ chức tiệc"
                                },
                                {
                                    "0": "Mường Thanh Luxury",
                                    "1": "Giặt Ủi"
                                },
                                {
                                    "0": "Mường Thanh Luxury",
                                    "1": "Hồ bơi"
                                },
                                {
                                    "0": "LandMark 81",
                                    "1": "Phòng Giải Trí"
                                },
                                {
                                    "0": "Mường Thanh Luxury",
                                    "1": "Hồ bơi"
                                }
                            ]
                        },
                        "text/html": "<table><tr><th>name</th><th>service_name</th></tr><tr><td>Mường Thanh Luxury</td><td>Hồ bơi</td></tr><tr><td>Mường Thanh Luxury</td><td>Đổi tiền</td></tr><tr><td>LandMark 81</td><td>Phòng Giải Trí</td></tr><tr><td>Minh Toàn Galaxy</td><td>Tổ chức tiệc</td></tr><tr><td>LandMark 81</td><td>Hồ bơi</td></tr><tr><td>Agoda Hotel</td><td>Hồ bơi</td></tr><tr><td>Agoda Hotel</td><td>Phòng Dịch Vụ 24h</td></tr><tr><td>Minh Toàn Galaxy</td><td>Tổ chức tiệc</td></tr><tr><td>Mường Thanh Luxury</td><td>Giặt Ủi</td></tr><tr><td>Mường Thanh Luxury</td><td>Hồ bơi</td></tr><tr><td>LandMark 81</td><td>Phòng Giải Trí</td></tr><tr><td>Mường Thanh Luxury</td><td>Hồ bơi</td></tr></table>"
                    },
                    "metadata": {}
                }
            ],
            "execution_count": 4
        },
        {
            "cell_type": "code",
            "source": [
                "SELECT b.booking_id,h.name, r.room_id, r.room_number\n",
                "FROM booking as b\n",
                "INNER JOIN hotel as h\n",
                "ON b.hotel_booking_id = h.hotel_id \n",
                "INNER JOIN room as r\n",
                "ON b.room_booking_id = r.room_id \n",
                "INNER JOIn room_type as rt \n",
                "ON r.room_type_id = rt.room_type_id\n",
                "WHERE b.duration_stay > 3\n",
                "AND rt.name = N'Phòng đơn thường'"
            ],
            "metadata": {
                "language": "sql",
                "azdata_cell_guid": "2a3bdd2b-9c97-4074-b462-599c23885fa5"
            },
            "outputs": [
                {
                    "output_type": "display_data",
                    "data": {
                        "text/html": "(3 rows affected)"
                    },
                    "metadata": {}
                },
                {
                    "output_type": "display_data",
                    "data": {
                        "text/html": "Total execution time: 00:00:00.033"
                    },
                    "metadata": {}
                },
                {
                    "output_type": "execute_result",
                    "execution_count": 7,
                    "data": {
                        "application/vnd.dataresource+json": {
                            "schema": {
                                "fields": [
                                    {
                                        "name": "booking_id"
                                    },
                                    {
                                        "name": "name"
                                    },
                                    {
                                        "name": "room_id"
                                    },
                                    {
                                        "name": "room_number"
                                    }
                                ]
                            },
                            "data": [
                                {
                                    "0": "booking11 ",
                                    "1": "Minh Toàn Galaxy",
                                    "2": "mtroom_01 ",
                                    "3": "201"
                                },
                                {
                                    "0": "booking16 ",
                                    "1": "Mường Thanh Luxury",
                                    "2": "mthroom_05",
                                    "3": "145"
                                },
                                {
                                    "0": "booking18 ",
                                    "1": "Agoda Hotel",
                                    "2": "agoroom_04",
                                    "3": "128"
                                }
                            ]
                        },
                        "text/html": "<table><tr><th>booking_id</th><th>name</th><th>room_id</th><th>room_number</th></tr><tr><td>booking11 </td><td>Minh Toàn Galaxy</td><td>mtroom_01 </td><td>201</td></tr><tr><td>booking16 </td><td>Mường Thanh Luxury</td><td>mthroom_05</td><td>145</td></tr><tr><td>booking18 </td><td>Agoda Hotel</td><td>agoroom_04</td><td>128</td></tr></table>"
                    },
                    "metadata": {}
                }
            ],
            "execution_count": 7
        },
        {
            "cell_type": "code",
            "source": [
                "SELECT CONCAT(Rtrim(g.last_name), ' ', RTRIM(g.middle_name), ' ', RTRIM(g.first_name)) as full_name,\n",
                "         g.contact_number, sub.room_count\n",
                "FROM guest as g \n",
                "INNER JOIN (SELECT guest_booking_id, COUNT(room_booking_id) as room_count\n",
                "            FROM booking\n",
                "            GROUP BY guest_booking_id) as sub\n",
                "ON g.guest_id = sub.guest_booking_id\n",
                "ORDER BY room_count DESC ;"
            ],
            "metadata": {
                "language": "sql",
                "azdata_cell_guid": "8dcff20d-6531-4652-b339-fe8e2a5e0306"
            },
            "outputs": [
                {
                    "output_type": "display_data",
                    "data": {
                        "text/html": "(12 rows affected)"
                    },
                    "metadata": {}
                },
                {
                    "output_type": "display_data",
                    "data": {
                        "text/html": "Total execution time: 00:00:00.043"
                    },
                    "metadata": {}
                },
                {
                    "output_type": "execute_result",
                    "metadata": {},
                    "execution_count": 7,
                    "data": {
                        "application/vnd.dataresource+json": {
                            "schema": {
                                "fields": [
                                    {
                                        "name": "full_name"
                                    },
                                    {
                                        "name": "contact_number"
                                    },
                                    {
                                        "name": "room_count"
                                    }
                                ]
                            },
                            "data": [
                                {
                                    "0": "Hoàng Nguyệt Anh",
                                    "1": "0989212234",
                                    "2": "3"
                                },
                                {
                                    "0": "Quan Vân Trường",
                                    "1": "0898221777",
                                    "2": "3"
                                },
                                {
                                    "0": "Tư Mã Ý",
                                    "1": "0972822322",
                                    "2": "3"
                                },
                                {
                                    "0": "Lỗ Tử Kính",
                                    "1": "0923012678",
                                    "2": "3"
                                },
                                {
                                    "0": "Triệu Tử Long",
                                    "1": "0965233244",
                                    "2": "3"
                                },
                                {
                                    "0": "Lưu Huyền Đức",
                                    "1": "0905236555",
                                    "2": "2"
                                },
                                {
                                    "0": "Thái Vân Cơ",
                                    "1": "0332123332",
                                    "2": "2"
                                },
                                {
                                    "0": "Tôn Thượng Hương",
                                    "1": "0888765666",
                                    "2": "2"
                                },
                                {
                                    "0": "Tào Mạnh Đức",
                                    "1": "0789212345",
                                    "2": "2"
                                },
                                {
                                    "0": "Lã Phụng Tiên",
                                    "1": "0233299122",
                                    "2": "1"
                                },
                                {
                                    "0": "Tuân  Úc",
                                    "1": "0889870623",
                                    "2": "1"
                                },
                                {
                                    "0": "Chu Công Cẩn",
                                    "1": "0905656565",
                                    "2": "1"
                                }
                            ]
                        },
                        "text/html": [
                            "<table>",
                            "<tr><th>full_name</th><th>contact_number</th><th>room_count</th></tr>",
                            "<tr><td>Hoàng Nguyệt Anh</td><td>0989212234</td><td>3</td></tr>",
                            "<tr><td>Quan Vân Trường</td><td>0898221777</td><td>3</td></tr>",
                            "<tr><td>Tư Mã Ý</td><td>0972822322</td><td>3</td></tr>",
                            "<tr><td>Lỗ Tử Kính</td><td>0923012678</td><td>3</td></tr>",
                            "<tr><td>Triệu Tử Long</td><td>0965233244</td><td>3</td></tr>",
                            "<tr><td>Lưu Huyền Đức</td><td>0905236555</td><td>2</td></tr>",
                            "<tr><td>Thái Vân Cơ</td><td>0332123332</td><td>2</td></tr>",
                            "<tr><td>Tôn Thượng Hương</td><td>0888765666</td><td>2</td></tr>",
                            "<tr><td>Tào Mạnh Đức</td><td>0789212345</td><td>2</td></tr>",
                            "<tr><td>Lã Phụng Tiên</td><td>0233299122</td><td>1</td></tr>",
                            "<tr><td>Tuân  Úc</td><td>0889870623</td><td>1</td></tr>",
                            "<tr><td>Chu Công Cẩn</td><td>0905656565</td><td>1</td></tr>",
                            "</table>"
                        ]
                    }
                }
            ],
            "execution_count": 7
        },
        {
            "cell_type": "code",
            "source": [
                "SELECT h.name as hotel, hs.service_name, sub.count as total\n",
                "FROM hotel_service as hs \n",
                "INNER JOIN (SELECT hotel_service_id, SUM(s.count) as count\n",
                "            FROM service_used as s\n",
                "            GROUP BY hotel_service_id ) as sub\n",
                "ON hs.service_id = sub.hotel_service_id \n",
                "INNER JOIN hotel as h\n",
                "ON hs.hotel_id = h.hotel_id;\n",
                ""
            ],
            "metadata": {
                "language": "sql",
                "azdata_cell_guid": "c11bfa66-460f-4030-945c-0af28fe995f6"
            },
            "outputs": [
                {
                    "output_type": "display_data",
                    "data": {
                        "text/html": "(9 rows affected)"
                    },
                    "metadata": {}
                },
                {
                    "output_type": "display_data",
                    "data": {
                        "text/html": "Total execution time: 00:00:00.051"
                    },
                    "metadata": {}
                },
                {
                    "output_type": "execute_result",
                    "metadata": {},
                    "execution_count": 8,
                    "data": {
                        "application/vnd.dataresource+json": {
                            "schema": {
                                "fields": [
                                    {
                                        "name": "hotel"
                                    },
                                    {
                                        "name": "service_name"
                                    },
                                    {
                                        "name": "total"
                                    }
                                ]
                            },
                            "data": [
                                {
                                    "0": "Agoda Hotel",
                                    "1": "Hồ bơi",
                                    "2": "2"
                                },
                                {
                                    "0": "Agoda Hotel",
                                    "1": "Phòng Dịch Vụ 24h",
                                    "2": "2"
                                },
                                {
                                    "0": "LandMark 81",
                                    "1": "Hồ bơi",
                                    "2": "4"
                                },
                                {
                                    "0": "LandMark 81",
                                    "1": "Phòng Giải Trí",
                                    "2": "3"
                                },
                                {
                                    "0": "Minh Toàn Galaxy",
                                    "1": "Tổ chức tiệc",
                                    "2": "3"
                                },
                                {
                                    "0": "Minh Toàn Galaxy",
                                    "1": "Gym",
                                    "2": "3"
                                },
                                {
                                    "0": "Mường Thanh Luxury",
                                    "1": "Hồ bơi",
                                    "2": "8"
                                },
                                {
                                    "0": "Mường Thanh Luxury",
                                    "1": "Giặt Ủi",
                                    "2": "4"
                                },
                                {
                                    "0": "Mường Thanh Luxury",
                                    "1": "Đổi tiền",
                                    "2": "2"
                                }
                            ]
                        },
                        "text/html": [
                            "<table>",
                            "<tr><th>hotel</th><th>service_name</th><th>total</th></tr>",
                            "<tr><td>Agoda Hotel</td><td>Hồ bơi</td><td>2</td></tr>",
                            "<tr><td>Agoda Hotel</td><td>Phòng Dịch Vụ 24h</td><td>2</td></tr>",
                            "<tr><td>LandMark 81</td><td>Hồ bơi</td><td>4</td></tr>",
                            "<tr><td>LandMark 81</td><td>Phòng Giải Trí</td><td>3</td></tr>",
                            "<tr><td>Minh Toàn Galaxy</td><td>Tổ chức tiệc</td><td>3</td></tr>",
                            "<tr><td>Minh Toàn Galaxy</td><td>Gym</td><td>3</td></tr>",
                            "<tr><td>Mường Thanh Luxury</td><td>Hồ bơi</td><td>8</td></tr>",
                            "<tr><td>Mường Thanh Luxury</td><td>Giặt Ủi</td><td>4</td></tr>",
                            "<tr><td>Mường Thanh Luxury</td><td>Đổi tiền</td><td>2</td></tr>",
                            "</table>"
                        ]
                    }
                }
            ],
            "execution_count": 8
        },
        {
            "cell_type": "code",
            "source": [
                "SELECT hotel_id,AVG(price)\n",
                "FROM room \n",
                "GROUP BY hotel_id"
            ],
            "metadata": {
                "language": "sql",
                "azdata_cell_guid": "68138a65-561b-4f71-8354-a38bcd215c15",
                "tags": []
            },
            "outputs": [
                {
                    "output_type": "display_data",
                    "data": {
                        "text/html": "(4 rows affected)"
                    },
                    "metadata": {}
                },
                {
                    "output_type": "display_data",
                    "data": {
                        "text/html": "Total execution time: 00:00:00.037"
                    },
                    "metadata": {}
                },
                {
                    "output_type": "execute_result",
                    "execution_count": 30,
                    "data": {
                        "application/vnd.dataresource+json": {
                            "schema": {
                                "fields": [
                                    {
                                        "name": "hotel_id"
                                    },
                                    {
                                        "name": "(No column name)"
                                    }
                                ]
                            },
                            "data": [
                                {
                                    "0": "Hotel01             ",
                                    "1": "4400000"
                                },
                                {
                                    "0": "Hotel02             ",
                                    "1": "2975000"
                                },
                                {
                                    "0": "Hotel03             ",
                                    "1": "1450000"
                                },
                                {
                                    "0": "Hotel04             ",
                                    "1": "6625000"
                                }
                            ]
                        },
                        "text/html": "<table><tr><th>hotel_id</th><th>(No column name)</th></tr><tr><td>Hotel01             </td><td>4400000</td></tr><tr><td>Hotel02             </td><td>2975000</td></tr><tr><td>Hotel03             </td><td>1450000</td></tr><tr><td>Hotel04             </td><td>6625000</td></tr></table>"
                    },
                    "metadata": {}
                }
            ],
            "execution_count": 30
        },
        {
            "cell_type": "code",
            "source": [
                "SELECT m.meal_id, sub.employee_count\n",
                "FROM meal as m \n",
                "INNER JOIN (SELECT meal_id, COUNT(waiter_id) as employee_count\n",
                "            FROM serve \n",
                "            GROUP BY meal_id) as sub\n",
                "ON m.meal_id = sub.meal_id \n",
                "WHERE m.time = N'Sáng';"
            ],
            "metadata": {
                "language": "sql",
                "azdata_cell_guid": "09e94fac-eafd-4daf-b13f-c0e4348ad549"
            },
            "outputs": [
                {
                    "output_type": "display_data",
                    "data": {
                        "text/html": "(17 rows affected)"
                    },
                    "metadata": {}
                },
                {
                    "output_type": "display_data",
                    "data": {
                        "text/html": "Total execution time: 00:00:00.012"
                    },
                    "metadata": {}
                },
                {
                    "output_type": "execute_result",
                    "execution_count": 7,
                    "data": {
                        "application/vnd.dataresource+json": {
                            "schema": {
                                "fields": [
                                    {
                                        "name": "meal_id"
                                    },
                                    {
                                        "name": "employee_count"
                                    }
                                ]
                            },
                            "data": [
                                {
                                    "0": "meal_01   ",
                                    "1": "1"
                                },
                                {
                                    "0": "meal_03   ",
                                    "1": "2"
                                },
                                {
                                    "0": "meal_06   ",
                                    "1": "1"
                                },
                                {
                                    "0": "meal_09   ",
                                    "1": "1"
                                },
                                {
                                    "0": "meal_12   ",
                                    "1": "1"
                                },
                                {
                                    "0": "meal_17   ",
                                    "1": "3"
                                },
                                {
                                    "0": "meal_19   ",
                                    "1": "1"
                                },
                                {
                                    "0": "meal_21   ",
                                    "1": "1"
                                },
                                {
                                    "0": "meal_23   ",
                                    "1": "1"
                                },
                                {
                                    "0": "meal_27   ",
                                    "1": "1"
                                },
                                {
                                    "0": "meal_31   ",
                                    "1": "1"
                                },
                                {
                                    "0": "meal_36   ",
                                    "1": "1"
                                },
                                {
                                    "0": "meal_40   ",
                                    "1": "2"
                                },
                                {
                                    "0": "meal_44   ",
                                    "1": "1"
                                },
                                {
                                    "0": "meal_46   ",
                                    "1": "1"
                                },
                                {
                                    "0": "meal_48   ",
                                    "1": "1"
                                },
                                {
                                    "0": "meal_50   ",
                                    "1": "1"
                                }
                            ]
                        },
                        "text/html": "<table><tr><th>meal_id</th><th>employee_count</th></tr><tr><td>meal_01   </td><td>1</td></tr><tr><td>meal_03   </td><td>2</td></tr><tr><td>meal_06   </td><td>1</td></tr><tr><td>meal_09   </td><td>1</td></tr><tr><td>meal_12   </td><td>1</td></tr><tr><td>meal_17   </td><td>3</td></tr><tr><td>meal_19   </td><td>1</td></tr><tr><td>meal_21   </td><td>1</td></tr><tr><td>meal_23   </td><td>1</td></tr><tr><td>meal_27   </td><td>1</td></tr><tr><td>meal_31   </td><td>1</td></tr><tr><td>meal_36   </td><td>1</td></tr><tr><td>meal_40   </td><td>2</td></tr><tr><td>meal_44   </td><td>1</td></tr><tr><td>meal_46   </td><td>1</td></tr><tr><td>meal_48   </td><td>1</td></tr><tr><td>meal_50   </td><td>1</td></tr></table>"
                    },
                    "metadata": {}
                }
            ],
            "execution_count": 7
        },
        {
            "cell_type": "code",
            "source": [
                "SELECT CONCAT(Rtrim(g.last_name), ' ', RTRIM(g.middle_name), ' ', RTRIM(g.first_name)) as full_name, \n",
                "        g.date_of_birth, g.contact_number\n",
                "FROM guest as g\n",
                "INNER JOIN (SELECT guest_booking_id, COUNT(booking_id) as total_booking,\n",
                "                    AVG(duration_stay) as avg_duration\n",
                "            FROM booking as b\n",
                "            GROUP BY guest_booking_id\n",
                "            HAVING COUNT(booking_id) > 3\n",
                "            OR AVG(duration_stay) > 3) as sub\n",
                "ON g.guest_id = sub.guest_booking_id;"
            ],
            "metadata": {
                "azdata_cell_guid": "882e0329-3cbd-4642-b42e-df0d68a17d88",
                "language": "sql"
            },
            "outputs": [
                {
                    "output_type": "display_data",
                    "data": {
                        "text/html": "(9 rows affected)"
                    },
                    "metadata": {}
                },
                {
                    "output_type": "display_data",
                    "data": {
                        "text/html": "Total execution time: 00:00:00.066"
                    },
                    "metadata": {}
                },
                {
                    "output_type": "execute_result",
                    "execution_count": 10,
                    "data": {
                        "application/vnd.dataresource+json": {
                            "schema": {
                                "fields": [
                                    {
                                        "name": "first_name"
                                    },
                                    {
                                        "name": "date_of_birth"
                                    },
                                    {
                                        "name": "contact_number"
                                    }
                                ]
                            },
                            "data": [
                                {
                                    "0": "Cẩn",
                                    "1": "1967-08-31",
                                    "2": "0905656565"
                                },
                                {
                                    "0": "Đức",
                                    "1": "1950-06-24",
                                    "2": "0905236555"
                                },
                                {
                                    "0": "Tiên",
                                    "1": "1962-05-15",
                                    "2": "0233299122"
                                },
                                {
                                    "0": "Anh",
                                    "1": "1967-09-01",
                                    "2": "0989212234"
                                },
                                {
                                    "0": "Trường",
                                    "1": "1949-02-22",
                                    "2": "0898221777"
                                },
                                {
                                    "0": "Cơ",
                                    "1": "1959-02-22",
                                    "2": "0332123332"
                                },
                                {
                                    "0": "Đức",
                                    "1": "1954-02-22",
                                    "2": "0789212345"
                                },
                                {
                                    "0": "Úc",
                                    "1": "1945-09-21",
                                    "2": "0889870623"
                                },
                                {
                                    "0": "Kính",
                                    "1": "1959-06-23",
                                    "2": "0923012678"
                                }
                            ]
                        },
                        "text/html": "<table><tr><th>first_name</th><th>date_of_birth</th><th>contact_number</th></tr><tr><td>Cẩn</td><td>1967-08-31</td><td>0905656565</td></tr><tr><td>Đức</td><td>1950-06-24</td><td>0905236555</td></tr><tr><td>Tiên</td><td>1962-05-15</td><td>0233299122</td></tr><tr><td>Anh</td><td>1967-09-01</td><td>0989212234</td></tr><tr><td>Trường</td><td>1949-02-22</td><td>0898221777</td></tr><tr><td>Cơ</td><td>1959-02-22</td><td>0332123332</td></tr><tr><td>Đức</td><td>1954-02-22</td><td>0789212345</td></tr><tr><td>Úc</td><td>1945-09-21</td><td>0889870623</td></tr><tr><td>Kính</td><td>1959-06-23</td><td>0923012678</td></tr></table>"
                    },
                    "metadata": {}
                }
            ],
            "execution_count": 10
        },
        {
            "cell_type": "code",
            "source": [
                "SELECT h.name, a.city, a.district, a.ward, a.street, sub.count_employee\n",
                "FROM hotel as h \n",
                "INNER JOIN (SELECT emp_hotel_id, COUNT(*) as count_employee\n",
                "            FROM employee \n",
                "            GROUP BY emp_hotel_id \n",
                "            HAVING COUNT(*) > 3) as sub\n",
                "ON h.hotel_id = sub.emp_hotel_id \n",
                "INNER JOIN address as a \n",
                "ON h.address_hotel_id = a.address_id"
            ],
            "metadata": {
                "language": "sql",
                "azdata_cell_guid": "8698f45d-a67c-414e-a61f-da861deb9cf3"
            },
            "outputs": [
                {
                    "output_type": "display_data",
                    "data": {
                        "text/html": "(1 row affected)"
                    },
                    "metadata": {}
                },
                {
                    "output_type": "display_data",
                    "data": {
                        "text/html": "Total execution time: 00:00:00.013"
                    },
                    "metadata": {}
                },
                {
                    "output_type": "execute_result",
                    "execution_count": 14,
                    "data": {
                        "application/vnd.dataresource+json": {
                            "schema": {
                                "fields": [
                                    {
                                        "name": "name"
                                    },
                                    {
                                        "name": "city"
                                    },
                                    {
                                        "name": "district"
                                    },
                                    {
                                        "name": "ward"
                                    },
                                    {
                                        "name": "street"
                                    },
                                    {
                                        "name": "count_employee"
                                    }
                                ]
                            },
                            "data": [
                                {
                                    "0": "Mường Thanh Luxury",
                                    "1": "TP Hồ Chí Minh",
                                    "2": "Quận 10",
                                    "3": "Phường 8",
                                    "4": "67 Cách Mạng Tháng 8",
                                    "5": "4"
                                }
                            ]
                        },
                        "text/html": "<table><tr><th>name</th><th>city</th><th>district</th><th>ward</th><th>street</th><th>count_employee</th></tr><tr><td>Mường Thanh Luxury</td><td>TP Hồ Chí Minh</td><td>Quận 10</td><td>Phường 8</td><td>67 Cách Mạng Tháng 8</td><td>4</td></tr></table>"
                    },
                    "metadata": {}
                }
            ],
            "execution_count": 14
        },
        {
            "cell_type": "code",
            "source": [
                "SELECT mn.name, m.meal_id, sub.waiter_count\n",
                "FROM meal as m\n",
                "INNER JOIN (Select meal_id, COUNT(waiter_id) as waiter_count\n",
                "            FROM serve \n",
                "            GROUP BY meal_id) as sub\n",
                "ON m.meal_id = sub.meal_id \n",
                "INNER JOIN menu as mn \n",
                "ON m.menu_id = mn.menu_id \n",
                "WHERE m.time = N'Tối' AND sub.waiter_count > 1"
            ],
            "metadata": {
                "language": "sql",
                "azdata_cell_guid": "6d4e4672-60f8-4721-a298-624f2673cd23"
            },
            "outputs": [
                {
                    "output_type": "display_data",
                    "data": {
                        "text/html": "(6 rows affected)"
                    },
                    "metadata": {}
                },
                {
                    "output_type": "display_data",
                    "data": {
                        "text/html": "Total execution time: 00:00:00.021"
                    },
                    "metadata": {}
                },
                {
                    "output_type": "execute_result",
                    "execution_count": 16,
                    "data": {
                        "application/vnd.dataresource+json": {
                            "schema": {
                                "fields": [
                                    {
                                        "name": "name"
                                    },
                                    {
                                        "name": "meal_id"
                                    },
                                    {
                                        "name": "waiter_count"
                                    }
                                ]
                            },
                            "data": [
                                {
                                    "0": "Agoda Menu",
                                    "1": "meal_02   ",
                                    "2": "2"
                                },
                                {
                                    "0": "Agoda Menu",
                                    "1": "meal_05   ",
                                    "2": "2"
                                },
                                {
                                    "0": "Minh Toàn Menu",
                                    "1": "meal_14   ",
                                    "2": "2"
                                },
                                {
                                    "0": "Mường Thanh Menu",
                                    "1": "meal_33   ",
                                    "2": "2"
                                },
                                {
                                    "0": "Mường Thanh Menu",
                                    "1": "meal_35   ",
                                    "2": "2"
                                },
                                {
                                    "0": "Land Mark Menu",
                                    "1": "meal_47   ",
                                    "2": "2"
                                }
                            ]
                        },
                        "text/html": "<table><tr><th>name</th><th>meal_id</th><th>waiter_count</th></tr><tr><td>Agoda Menu</td><td>meal_02   </td><td>2</td></tr><tr><td>Agoda Menu</td><td>meal_05   </td><td>2</td></tr><tr><td>Minh Toàn Menu</td><td>meal_14   </td><td>2</td></tr><tr><td>Mường Thanh Menu</td><td>meal_33   </td><td>2</td></tr><tr><td>Mường Thanh Menu</td><td>meal_35   </td><td>2</td></tr><tr><td>Land Mark Menu</td><td>meal_47   </td><td>2</td></tr></table>"
                    },
                    "metadata": {}
                }
            ],
            "execution_count": 16
        }
    ]
}